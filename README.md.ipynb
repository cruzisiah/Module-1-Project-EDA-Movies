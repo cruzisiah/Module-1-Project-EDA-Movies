{
 "cells": [
  {
   "cell_type": "markdown",
   "metadata": {},
   "source": [
    "### Final Project Submission\n",
    "\n",
    "* Student name: Isiah Cruz\n",
    "* Student pace: Part-Time\n",
    "* Scheduled project review date/time: April 27, 2020\n",
    "* Instructor name: Eli Thomas\n",
    "* Blog post URL:"
   ]
  },
  {
   "cell_type": "markdown",
   "metadata": {},
   "source": [
    "Welcome!\n",
    "\n",
    "This Github repository contains my final project for Module 1. The project is split up into the following 3 different stages:\n",
    "\n",
    "- 1) Data Cleaning\n",
    "- 2) Data Exploration\n",
    "- 3) Data Visualization\n",
    "\n",
    "As you can see, we traced a few of the steps of the Data Science life cycle to make sure that we provided maximum business value as possible. The problem that we tried to solve was the following:\n",
    "\n",
    "### Microsoft sees all the big companies creating original video content, and they want to get in on the fun. They have decided to create a new movie studio, but the problem is they don’t know anything about creating movies. They have hired you to help them better understand the movie industry. Your team is charged with doing data analysis and creating a presentation that explores what type of films are currently doing the best at the box office. You must then translate those findings into actionable insights that the CEO can use when deciding what type of films they should be creating.\n",
    "\n",
    "Of course, being Data Scientists, we cut right to the core of the business question that our company was facing. The primary focus was clearly the present moment, the now. As such, we immediately removed all movies released before 2015 from our analyses, understanding that the film industry moves at breakneck speed and, like tech, you either innovate or you pack it up.\n",
    "\n",
    "This left us to explore what \"type of films are currently doing the best at the box office\", which raised several other questions. A movie made in a particular geography can be a type of film (difference in region). A movie directed by a world-class director can be a type of film (difference in cast). And action film is a different type of film than a comedy (difference in genre). Which dimension of film composition were we to explore? On the other hand, success at the box office implies financial gain, but can't it also mean critical acclaim? Or tickets sold?\n",
    "\n",
    "Ultimately, we determined that our company has some pretty high standards to uphold in entering the movie industry. As one of the most valuable companies on the globe heading into a new age of digital innovation, it is important that we enter with a big splash (measured by the popularity, buzz, and conversation that our first release generates) and that we put forth award-winning, high quality films (measured by audience ratings and critic acclaim). Furthermore, this hybrid model of optimizing for popularity (how Netflix positions itself) and quality (how Amazon Prime Video positions itself) will allow us to assume a market position that successfuly combines the value propositions of the current market leaders.\n",
    "\n",
    "With the above in mind, we narrowed our questions down to the below:\n",
    "\n",
    "- 1) What is the most important factor in determining a film's success?\n",
    "- 2) Which movie genres generate the most popularity?\n",
    "- 3) Which movie genres generate the highest audience ratings?\n",
    "\n",
    "Moreover, we answered these questions in the following order:\n",
    "\n",
    "- 1) File: M1_DataCleaning\n",
    "    - This notebook is where we \"clean\" the 3 main datasets used for this project. That is, we made sure to standardize data types where necessary, we made context-based assumptions when there were NaN data types, and we removed columns that were not substantive to our goal of answering our questions.\n",
    "- 2) File: M1_DataExploration\n",
    "    - This notebook is where we sort, transform, and analyze the data to draw conclusions. In this notebook you will find joins of different data sets, customization of unique parameters (i.e. no movies older than 2015), etc.\n",
    "- 3) File: M1_DataVisualization\n",
    "    - This notebook contains the graphs that display our findings."
   ]
  }
 ],
 "metadata": {
  "kernelspec": {
   "display_name": "Python 3",
   "language": "python",
   "name": "python3"
  },
  "language_info": {
   "codemirror_mode": {
    "name": "ipython",
    "version": 3
   },
   "file_extension": ".py",
   "mimetype": "text/x-python",
   "name": "python",
   "nbconvert_exporter": "python",
   "pygments_lexer": "ipython3",
   "version": "3.6.9"
  }
 },
 "nbformat": 4,
 "nbformat_minor": 2
}
