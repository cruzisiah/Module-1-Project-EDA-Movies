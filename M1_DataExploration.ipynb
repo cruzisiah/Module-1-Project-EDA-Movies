{
 "cells": [
  {
   "cell_type": "markdown",
   "metadata": {},
   "source": [
    "### Final Project Submission\n",
    "\n",
    "* Student name: Isiah Cruz\n",
    "* Student pace: Part-Time\n",
    "* Scheduled project review date/time: April 27, 2020\n",
    "* Instructor name: Eli Thomas\n",
    "* Blog post URL:"
   ]
  },
  {
   "cell_type": "markdown",
   "metadata": {},
   "source": [
    "# Data Exploration"
   ]
  },
  {
   "cell_type": "code",
   "execution_count": 3,
   "metadata": {},
   "outputs": [],
   "source": [
    "import pandas as pd #importing data analysis library under the alias pd\n",
    "import numpy as np #importing scientific computation library under the alias np"
   ]
  },
  {
   "cell_type": "code",
   "execution_count": 50,
   "metadata": {},
   "outputs": [],
   "source": [
    "df1 = pd.read_csv('imdb.ratings.cleaned.csv', index_col=0) #importing the cleaned IMDB ratings dataset\n",
    "df2 = pd.read_csv('imdb.title.basics.cleaned.csv', index_col=0) #importing the cleaned IMDB title basics dataset\n",
    "df5 = pd.read_csv('rt.cleaned.csv', index_col=0) #importing the cleaned IMDB title basics dataset"
   ]
  },
  {
   "cell_type": "markdown",
   "metadata": {},
   "source": [
    "## Datasets #1 & #2: IMDB Ratings & IMDB Basics"
   ]
  },
  {
   "cell_type": "code",
   "execution_count": 4,
   "metadata": {},
   "outputs": [],
   "source": [
    "df3 = pd.merge(df1, df2, on='tconst', how='inner') #merge our 2 datasets with 'tconst' as our index"
   ]
  },
  {
   "cell_type": "code",
   "execution_count": 5,
   "metadata": {},
   "outputs": [],
   "source": [
    "df3 = df3.sort_values(by=['averagerating','numvotes'], ascending=False)\n",
    "\n",
    "#sort by 'Average Rating' and 'Numvotes' to detect the correlation between popularity & other factors like runtime"
   ]
  },
  {
   "cell_type": "code",
   "execution_count": 6,
   "metadata": {},
   "outputs": [
    {
     "data": {
      "text/plain": [
       "49.0"
      ]
     },
     "execution_count": 6,
     "metadata": {},
     "output_type": "execute_result"
    }
   ],
   "source": [
    "df3['numvotes'].median()\n",
    "\n",
    "#finding the median of the 'numvotes' column to get a sense of what a good critical mass for votes may be.\n",
    "#of course, a movie with a 100 rating and 1 vote will be judged differently than one with a 100 rating and 1000 votes"
   ]
  },
  {
   "cell_type": "code",
   "execution_count": 7,
   "metadata": {},
   "outputs": [
    {
     "data": {
      "text/plain": [
       "1841066"
      ]
     },
     "execution_count": 7,
     "metadata": {},
     "output_type": "execute_result"
    }
   ],
   "source": [
    "df3['numvotes'].max()\n",
    "\n",
    "#similar to our previous code except getting a sense of the movie with the most votes"
   ]
  },
  {
   "cell_type": "code",
   "execution_count": 8,
   "metadata": {},
   "outputs": [],
   "source": [
    "df3 = df3[df3.numvotes >= 49] #removing the rows where numvotes is not equal to the average of the numvotes column"
   ]
  },
  {
   "cell_type": "code",
   "execution_count": 9,
   "metadata": {},
   "outputs": [],
   "source": [
    "df3 = df3.sort_values(by=['averagerating','numvotes'], ascending=False)\n",
    "\n",
    "#re-sort the values now that only movies with a critical mass of votes are included (sorted by averagerating)"
   ]
  },
  {
   "cell_type": "code",
   "execution_count": 10,
   "metadata": {},
   "outputs": [
    {
     "data": {
      "text/plain": [
       "Documentary                        8\n",
       "Drama                              5\n",
       "Comedy,Drama,Family                2\n",
       "Comedy,Drama,Musical               1\n",
       "Adventure,Biography,Documentary    1\n",
       "Action                             1\n",
       "Drama,History                      1\n",
       "Biography                          1\n",
       "Documentary,Music                  1\n",
       "Documentary,Drama,Music            1\n",
       "Comedy,Drama                       1\n",
       "Comedy                             1\n",
       "Biography,Drama,History            1\n",
       "Name: genres, dtype: int64"
      ]
     },
     "execution_count": 10,
     "metadata": {},
     "output_type": "execute_result"
    }
   ],
   "source": [
    "df3['genres'][0:25].value_counts() #examine which genres have received the highest ratings (sorted by averagerating)"
   ]
  },
  {
   "cell_type": "code",
   "execution_count": 11,
   "metadata": {},
   "outputs": [
    {
     "data": {
      "text/html": [
       "<div>\n",
       "<style scoped>\n",
       "    .dataframe tbody tr th:only-of-type {\n",
       "        vertical-align: middle;\n",
       "    }\n",
       "\n",
       "    .dataframe tbody tr th {\n",
       "        vertical-align: top;\n",
       "    }\n",
       "\n",
       "    .dataframe thead th {\n",
       "        text-align: right;\n",
       "    }\n",
       "</style>\n",
       "<table border=\"1\" class=\"dataframe\">\n",
       "  <thead>\n",
       "    <tr style=\"text-align: right;\">\n",
       "      <th></th>\n",
       "      <th>tconst</th>\n",
       "      <th>averagerating</th>\n",
       "      <th>numvotes</th>\n",
       "      <th>primary_title</th>\n",
       "      <th>start_year</th>\n",
       "      <th>runtime_minutes</th>\n",
       "      <th>genres</th>\n",
       "    </tr>\n",
       "  </thead>\n",
       "  <tbody>\n",
       "    <tr>\n",
       "      <td>45623</td>\n",
       "      <td>tt9537008</td>\n",
       "      <td>99</td>\n",
       "      <td>417</td>\n",
       "      <td>Gini Helida Kathe</td>\n",
       "      <td>2019</td>\n",
       "      <td>138.0</td>\n",
       "      <td>Drama</td>\n",
       "    </tr>\n",
       "    <tr>\n",
       "      <td>63149</td>\n",
       "      <td>tt7131622</td>\n",
       "      <td>97</td>\n",
       "      <td>5600</td>\n",
       "      <td>Once Upon a Time ... in Hollywood</td>\n",
       "      <td>2019</td>\n",
       "      <td>159.0</td>\n",
       "      <td>Comedy,Drama</td>\n",
       "    </tr>\n",
       "    <tr>\n",
       "      <td>73780</td>\n",
       "      <td>tt8718580</td>\n",
       "      <td>97</td>\n",
       "      <td>639</td>\n",
       "      <td>Eghantham</td>\n",
       "      <td>2018</td>\n",
       "      <td>125.0</td>\n",
       "      <td>Drama</td>\n",
       "    </tr>\n",
       "    <tr>\n",
       "      <td>44325</td>\n",
       "      <td>tt9787524</td>\n",
       "      <td>97</td>\n",
       "      <td>72</td>\n",
       "      <td>DOSED</td>\n",
       "      <td>2019</td>\n",
       "      <td>82.0</td>\n",
       "      <td>Documentary</td>\n",
       "    </tr>\n",
       "    <tr>\n",
       "      <td>27195</td>\n",
       "      <td>tt6058226</td>\n",
       "      <td>96</td>\n",
       "      <td>2604</td>\n",
       "      <td>Ekvtime: Man of God</td>\n",
       "      <td>2018</td>\n",
       "      <td>132.0</td>\n",
       "      <td>Biography,Drama,History</td>\n",
       "    </tr>\n",
       "  </tbody>\n",
       "</table>\n",
       "</div>"
      ],
      "text/plain": [
       "          tconst  averagerating  numvotes                      primary_title  \\\n",
       "45623  tt9537008             99       417                  Gini Helida Kathe   \n",
       "63149  tt7131622             97      5600  Once Upon a Time ... in Hollywood   \n",
       "73780  tt8718580             97       639                          Eghantham   \n",
       "44325  tt9787524             97        72                              DOSED   \n",
       "27195  tt6058226             96      2604                Ekvtime: Man of God   \n",
       "\n",
       "       start_year runtime_minutes                   genres  \n",
       "45623        2019           138.0                    Drama  \n",
       "63149        2019           159.0             Comedy,Drama  \n",
       "73780        2018           125.0                    Drama  \n",
       "44325        2019            82.0              Documentary  \n",
       "27195        2018           132.0  Biography,Drama,History  "
      ]
     },
     "execution_count": 11,
     "metadata": {},
     "output_type": "execute_result"
    }
   ],
   "source": [
    "df3 = df3[df3.start_year >= 2015]\n",
    "df3.head()\n",
    "\n",
    "#our problem statement prompts us to investigate recent movies, so let's remove movies that are 5+ years old"
   ]
  },
  {
   "cell_type": "code",
   "execution_count": 12,
   "metadata": {},
   "outputs": [],
   "source": [
    "df3.to_csv('imdb.critics.csv') #saving the sorted dataset at a csv"
   ]
  },
  {
   "cell_type": "code",
   "execution_count": 13,
   "metadata": {},
   "outputs": [
    {
     "data": {
      "text/html": [
       "<div>\n",
       "<style scoped>\n",
       "    .dataframe tbody tr th:only-of-type {\n",
       "        vertical-align: middle;\n",
       "    }\n",
       "\n",
       "    .dataframe tbody tr th {\n",
       "        vertical-align: top;\n",
       "    }\n",
       "\n",
       "    .dataframe thead th {\n",
       "        text-align: right;\n",
       "    }\n",
       "</style>\n",
       "<table border=\"1\" class=\"dataframe\">\n",
       "  <thead>\n",
       "    <tr style=\"text-align: right;\">\n",
       "      <th></th>\n",
       "      <th>tconst</th>\n",
       "      <th>averagerating</th>\n",
       "      <th>numvotes</th>\n",
       "      <th>primary_title</th>\n",
       "      <th>start_year</th>\n",
       "      <th>runtime_minutes</th>\n",
       "      <th>genres</th>\n",
       "    </tr>\n",
       "  </thead>\n",
       "  <tbody>\n",
       "    <tr>\n",
       "      <td>60518</td>\n",
       "      <td>tt1431045</td>\n",
       "      <td>80</td>\n",
       "      <td>820847</td>\n",
       "      <td>Deadpool</td>\n",
       "      <td>2016</td>\n",
       "      <td>108.0</td>\n",
       "      <td>Action,Adventure,Comedy</td>\n",
       "    </tr>\n",
       "    <tr>\n",
       "      <td>36852</td>\n",
       "      <td>tt2488496</td>\n",
       "      <td>80</td>\n",
       "      <td>784780</td>\n",
       "      <td>Star Wars: Episode VII - The Force Awakens</td>\n",
       "      <td>2015</td>\n",
       "      <td>136.0</td>\n",
       "      <td>Action,Adventure,Fantasy</td>\n",
       "    </tr>\n",
       "    <tr>\n",
       "      <td>3195</td>\n",
       "      <td>tt1392190</td>\n",
       "      <td>81</td>\n",
       "      <td>780910</td>\n",
       "      <td>Mad Max: Fury Road</td>\n",
       "      <td>2015</td>\n",
       "      <td>120.0</td>\n",
       "      <td>Action,Adventure,Sci-Fi</td>\n",
       "    </tr>\n",
       "    <tr>\n",
       "      <td>29797</td>\n",
       "      <td>tt3659388</td>\n",
       "      <td>80</td>\n",
       "      <td>680116</td>\n",
       "      <td>The Martian</td>\n",
       "      <td>2015</td>\n",
       "      <td>144.0</td>\n",
       "      <td>Adventure,Drama,Sci-Fi</td>\n",
       "    </tr>\n",
       "    <tr>\n",
       "      <td>71879</td>\n",
       "      <td>tt4154756</td>\n",
       "      <td>85</td>\n",
       "      <td>670926</td>\n",
       "      <td>Avengers: Infinity War</td>\n",
       "      <td>2018</td>\n",
       "      <td>149.0</td>\n",
       "      <td>Action,Adventure,Sci-Fi</td>\n",
       "    </tr>\n",
       "  </tbody>\n",
       "</table>\n",
       "</div>"
      ],
      "text/plain": [
       "          tconst  averagerating  numvotes  \\\n",
       "60518  tt1431045             80    820847   \n",
       "36852  tt2488496             80    784780   \n",
       "3195   tt1392190             81    780910   \n",
       "29797  tt3659388             80    680116   \n",
       "71879  tt4154756             85    670926   \n",
       "\n",
       "                                    primary_title  start_year runtime_minutes  \\\n",
       "60518                                    Deadpool        2016           108.0   \n",
       "36852  Star Wars: Episode VII - The Force Awakens        2015           136.0   \n",
       "3195                           Mad Max: Fury Road        2015           120.0   \n",
       "29797                                 The Martian        2015           144.0   \n",
       "71879                      Avengers: Infinity War        2018           149.0   \n",
       "\n",
       "                         genres  \n",
       "60518   Action,Adventure,Comedy  \n",
       "36852  Action,Adventure,Fantasy  \n",
       "3195    Action,Adventure,Sci-Fi  \n",
       "29797    Adventure,Drama,Sci-Fi  \n",
       "71879   Action,Adventure,Sci-Fi  "
      ]
     },
     "execution_count": 13,
     "metadata": {},
     "output_type": "execute_result"
    }
   ],
   "source": [
    "df4 = df3.sort_values(by=['numvotes','averagerating'], ascending=False)\n",
    "df4.head()\n",
    "\n",
    "#re-sort the values now that only movies with a critical mass of votes are included (sorted by numvotes)"
   ]
  },
  {
   "cell_type": "code",
   "execution_count": 14,
   "metadata": {},
   "outputs": [],
   "source": [
    "df4 = df4[df4.numvotes >= 49] #removing the rows where numvotes is not equal to the average of the numvotes column"
   ]
  },
  {
   "cell_type": "code",
   "execution_count": 15,
   "metadata": {},
   "outputs": [],
   "source": [
    "df4 = df4[df4.start_year >= 2015]\n",
    "\n",
    "#our problem statement prompts us to investigate recent movies, so let's remove movies that are 5+ years old"
   ]
  },
  {
   "cell_type": "code",
   "execution_count": 16,
   "metadata": {},
   "outputs": [
    {
     "data": {
      "text/html": [
       "<div>\n",
       "<style scoped>\n",
       "    .dataframe tbody tr th:only-of-type {\n",
       "        vertical-align: middle;\n",
       "    }\n",
       "\n",
       "    .dataframe tbody tr th {\n",
       "        vertical-align: top;\n",
       "    }\n",
       "\n",
       "    .dataframe thead th {\n",
       "        text-align: right;\n",
       "    }\n",
       "</style>\n",
       "<table border=\"1\" class=\"dataframe\">\n",
       "  <thead>\n",
       "    <tr style=\"text-align: right;\">\n",
       "      <th></th>\n",
       "      <th>tconst</th>\n",
       "      <th>averagerating</th>\n",
       "      <th>numvotes</th>\n",
       "      <th>primary_title</th>\n",
       "      <th>start_year</th>\n",
       "      <th>runtime_minutes</th>\n",
       "      <th>genres</th>\n",
       "    </tr>\n",
       "  </thead>\n",
       "  <tbody>\n",
       "    <tr>\n",
       "      <td>60518</td>\n",
       "      <td>tt1431045</td>\n",
       "      <td>80</td>\n",
       "      <td>820847</td>\n",
       "      <td>Deadpool</td>\n",
       "      <td>2016</td>\n",
       "      <td>108.0</td>\n",
       "      <td>Action,Adventure,Comedy</td>\n",
       "    </tr>\n",
       "    <tr>\n",
       "      <td>36852</td>\n",
       "      <td>tt2488496</td>\n",
       "      <td>80</td>\n",
       "      <td>784780</td>\n",
       "      <td>Star Wars: Episode VII - The Force Awakens</td>\n",
       "      <td>2015</td>\n",
       "      <td>136.0</td>\n",
       "      <td>Action,Adventure,Fantasy</td>\n",
       "    </tr>\n",
       "    <tr>\n",
       "      <td>3195</td>\n",
       "      <td>tt1392190</td>\n",
       "      <td>81</td>\n",
       "      <td>780910</td>\n",
       "      <td>Mad Max: Fury Road</td>\n",
       "      <td>2015</td>\n",
       "      <td>120.0</td>\n",
       "      <td>Action,Adventure,Sci-Fi</td>\n",
       "    </tr>\n",
       "    <tr>\n",
       "      <td>29797</td>\n",
       "      <td>tt3659388</td>\n",
       "      <td>80</td>\n",
       "      <td>680116</td>\n",
       "      <td>The Martian</td>\n",
       "      <td>2015</td>\n",
       "      <td>144.0</td>\n",
       "      <td>Adventure,Drama,Sci-Fi</td>\n",
       "    </tr>\n",
       "    <tr>\n",
       "      <td>71879</td>\n",
       "      <td>tt4154756</td>\n",
       "      <td>85</td>\n",
       "      <td>670926</td>\n",
       "      <td>Avengers: Infinity War</td>\n",
       "      <td>2018</td>\n",
       "      <td>149.0</td>\n",
       "      <td>Action,Adventure,Sci-Fi</td>\n",
       "    </tr>\n",
       "  </tbody>\n",
       "</table>\n",
       "</div>"
      ],
      "text/plain": [
       "          tconst  averagerating  numvotes  \\\n",
       "60518  tt1431045             80    820847   \n",
       "36852  tt2488496             80    784780   \n",
       "3195   tt1392190             81    780910   \n",
       "29797  tt3659388             80    680116   \n",
       "71879  tt4154756             85    670926   \n",
       "\n",
       "                                    primary_title  start_year runtime_minutes  \\\n",
       "60518                                    Deadpool        2016           108.0   \n",
       "36852  Star Wars: Episode VII - The Force Awakens        2015           136.0   \n",
       "3195                           Mad Max: Fury Road        2015           120.0   \n",
       "29797                                 The Martian        2015           144.0   \n",
       "71879                      Avengers: Infinity War        2018           149.0   \n",
       "\n",
       "                         genres  \n",
       "60518   Action,Adventure,Comedy  \n",
       "36852  Action,Adventure,Fantasy  \n",
       "3195    Action,Adventure,Sci-Fi  \n",
       "29797    Adventure,Drama,Sci-Fi  \n",
       "71879   Action,Adventure,Sci-Fi  "
      ]
     },
     "execution_count": 16,
     "metadata": {},
     "output_type": "execute_result"
    }
   ],
   "source": [
    "df4.head() #taking a look at the first 5 cells in the dataset"
   ]
  },
  {
   "cell_type": "code",
   "execution_count": 17,
   "metadata": {},
   "outputs": [
    {
     "data": {
      "text/plain": [
       "Action,Adventure,Sci-Fi       8\n",
       "Action,Adventure,Fantasy      6\n",
       "Action,Adventure,Comedy       4\n",
       "Comedy,Drama,Music            1\n",
       "Action,Drama,History          1\n",
       "Adventure,Animation,Comedy    1\n",
       "Drama,Mystery,Sci-Fi          1\n",
       "Action,Adventure,Biography    1\n",
       "Adventure,Drama,Sci-Fi        1\n",
       "Action,Drama,Sci-Fi           1\n",
       "Name: genres, dtype: int64"
      ]
     },
     "execution_count": 17,
     "metadata": {},
     "output_type": "execute_result"
    }
   ],
   "source": [
    "df4['genres'][0:25].value_counts() #taking stock of any consistencies across genres"
   ]
  },
  {
   "cell_type": "code",
   "execution_count": 18,
   "metadata": {},
   "outputs": [],
   "source": [
    "df4.to_csv('imdb.popularity.csv') #saving the sorted dataset at a csv"
   ]
  },
  {
   "cell_type": "markdown",
   "metadata": {},
   "source": [
    "## Dataset #3: Rotten Tomatoes Movie Info"
   ]
  },
  {
   "cell_type": "code",
   "execution_count": 32,
   "metadata": {},
   "outputs": [
    {
     "data": {
      "text/html": [
       "<div>\n",
       "<style scoped>\n",
       "    .dataframe tbody tr th:only-of-type {\n",
       "        vertical-align: middle;\n",
       "    }\n",
       "\n",
       "    .dataframe tbody tr th {\n",
       "        vertical-align: top;\n",
       "    }\n",
       "\n",
       "    .dataframe thead th {\n",
       "        text-align: right;\n",
       "    }\n",
       "</style>\n",
       "<table border=\"1\" class=\"dataframe\">\n",
       "  <thead>\n",
       "    <tr style=\"text-align: right;\">\n",
       "      <th></th>\n",
       "      <th>rating</th>\n",
       "      <th>genre</th>\n",
       "      <th>director</th>\n",
       "      <th>writer</th>\n",
       "      <th>theater_date</th>\n",
       "      <th>currency</th>\n",
       "      <th>box_office</th>\n",
       "      <th>runtime</th>\n",
       "    </tr>\n",
       "  </thead>\n",
       "  <tbody>\n",
       "    <tr>\n",
       "      <td>1</td>\n",
       "      <td>R</td>\n",
       "      <td>Drama|Science Fiction and Fantasy</td>\n",
       "      <td>David Cronenberg</td>\n",
       "      <td>David Cronenberg|Don DeLillo</td>\n",
       "      <td>2012</td>\n",
       "      <td>$</td>\n",
       "      <td>600000</td>\n",
       "      <td>108 minutes</td>\n",
       "    </tr>\n",
       "    <tr>\n",
       "      <td>6</td>\n",
       "      <td>PG-13</td>\n",
       "      <td>Comedy</td>\n",
       "      <td>Jake Kasdan</td>\n",
       "      <td>Mike White</td>\n",
       "      <td>2002</td>\n",
       "      <td>$</td>\n",
       "      <td>41032915</td>\n",
       "      <td>82 minutes</td>\n",
       "    </tr>\n",
       "    <tr>\n",
       "      <td>7</td>\n",
       "      <td>R</td>\n",
       "      <td>Drama</td>\n",
       "      <td>Ray Lawrence</td>\n",
       "      <td>Raymond Carver|Beatrix Christian</td>\n",
       "      <td>2006</td>\n",
       "      <td>$</td>\n",
       "      <td>224114</td>\n",
       "      <td>123 minutes</td>\n",
       "    </tr>\n",
       "    <tr>\n",
       "      <td>8</td>\n",
       "      <td>R</td>\n",
       "      <td>Drama</td>\n",
       "      <td>Taylor Hackford</td>\n",
       "      <td>Mark Jacobson</td>\n",
       "      <td>2010</td>\n",
       "      <td>$</td>\n",
       "      <td>134904</td>\n",
       "      <td>117 minutes</td>\n",
       "    </tr>\n",
       "    <tr>\n",
       "      <td>15</td>\n",
       "      <td>R</td>\n",
       "      <td>Comedy|Drama|Mystery and Suspense</td>\n",
       "      <td>George Hickenlooper</td>\n",
       "      <td>Norman Snider</td>\n",
       "      <td>2010</td>\n",
       "      <td>$</td>\n",
       "      <td>1039869</td>\n",
       "      <td>108 minutes</td>\n",
       "    </tr>\n",
       "  </tbody>\n",
       "</table>\n",
       "</div>"
      ],
      "text/plain": [
       "   rating                              genre             director  \\\n",
       "1       R  Drama|Science Fiction and Fantasy     David Cronenberg   \n",
       "6   PG-13                             Comedy          Jake Kasdan   \n",
       "7       R                              Drama         Ray Lawrence   \n",
       "8       R                              Drama      Taylor Hackford   \n",
       "15      R  Comedy|Drama|Mystery and Suspense  George Hickenlooper   \n",
       "\n",
       "                              writer  theater_date currency  box_office  \\\n",
       "1       David Cronenberg|Don DeLillo          2012        $      600000   \n",
       "6                         Mike White          2002        $    41032915   \n",
       "7   Raymond Carver|Beatrix Christian          2006        $      224114   \n",
       "8                      Mark Jacobson          2010        $      134904   \n",
       "15                     Norman Snider          2010        $     1039869   \n",
       "\n",
       "        runtime  \n",
       "1   108 minutes  \n",
       "6    82 minutes  \n",
       "7   123 minutes  \n",
       "8   117 minutes  \n",
       "15  108 minutes  "
      ]
     },
     "execution_count": 32,
     "metadata": {},
     "output_type": "execute_result"
    }
   ],
   "source": [
    "df5.head() #saving the cleaned dataset at a csv"
   ]
  },
  {
   "cell_type": "code",
   "execution_count": 33,
   "metadata": {},
   "outputs": [
    {
     "data": {
      "text/html": [
       "<div>\n",
       "<style scoped>\n",
       "    .dataframe tbody tr th:only-of-type {\n",
       "        vertical-align: middle;\n",
       "    }\n",
       "\n",
       "    .dataframe tbody tr th {\n",
       "        vertical-align: top;\n",
       "    }\n",
       "\n",
       "    .dataframe thead th {\n",
       "        text-align: right;\n",
       "    }\n",
       "</style>\n",
       "<table border=\"1\" class=\"dataframe\">\n",
       "  <thead>\n",
       "    <tr style=\"text-align: right;\">\n",
       "      <th></th>\n",
       "      <th>rating</th>\n",
       "      <th>genre</th>\n",
       "      <th>director</th>\n",
       "      <th>writer</th>\n",
       "      <th>theater_date</th>\n",
       "      <th>currency</th>\n",
       "      <th>box_office</th>\n",
       "      <th>runtime</th>\n",
       "    </tr>\n",
       "  </thead>\n",
       "  <tbody>\n",
       "    <tr>\n",
       "      <td>76</td>\n",
       "      <td>R</td>\n",
       "      <td>Drama|Sports and Fitness</td>\n",
       "      <td>Ben Younger</td>\n",
       "      <td>Ben Younger</td>\n",
       "      <td>2016</td>\n",
       "      <td>$</td>\n",
       "      <td>5051927</td>\n",
       "      <td>116 minutes</td>\n",
       "    </tr>\n",
       "    <tr>\n",
       "      <td>159</td>\n",
       "      <td>PG-13</td>\n",
       "      <td>Drama|Romance</td>\n",
       "      <td>Derek Cianfrance</td>\n",
       "      <td>Derek Cianfrance</td>\n",
       "      <td>2016</td>\n",
       "      <td>$</td>\n",
       "      <td>12533911</td>\n",
       "      <td>132 minutes</td>\n",
       "    </tr>\n",
       "    <tr>\n",
       "      <td>190</td>\n",
       "      <td>R</td>\n",
       "      <td>Drama|Romance</td>\n",
       "      <td>Todd Haynes</td>\n",
       "      <td>Phyllis Nagy</td>\n",
       "      <td>2015</td>\n",
       "      <td>$</td>\n",
       "      <td>8518148</td>\n",
       "      <td>118 minutes</td>\n",
       "    </tr>\n",
       "    <tr>\n",
       "      <td>207</td>\n",
       "      <td>R</td>\n",
       "      <td>Action and Adventure|Drama|Western</td>\n",
       "      <td>NaN</td>\n",
       "      <td>NaN</td>\n",
       "      <td>2016</td>\n",
       "      <td>$</td>\n",
       "      <td>976847</td>\n",
       "      <td>97 minutes</td>\n",
       "    </tr>\n",
       "    <tr>\n",
       "      <td>247</td>\n",
       "      <td>R</td>\n",
       "      <td>Horror</td>\n",
       "      <td>Guillermo del Toro</td>\n",
       "      <td>Guillermo del Toro|Matthew Robbins|Lucinda Coxon</td>\n",
       "      <td>2015</td>\n",
       "      <td>$</td>\n",
       "      <td>25957696</td>\n",
       "      <td>119 minutes</td>\n",
       "    </tr>\n",
       "  </tbody>\n",
       "</table>\n",
       "</div>"
      ],
      "text/plain": [
       "    rating                               genre            director  \\\n",
       "76       R            Drama|Sports and Fitness         Ben Younger   \n",
       "159  PG-13                       Drama|Romance    Derek Cianfrance   \n",
       "190      R                       Drama|Romance         Todd Haynes   \n",
       "207      R  Action and Adventure|Drama|Western                 NaN   \n",
       "247      R                              Horror  Guillermo del Toro   \n",
       "\n",
       "                                               writer  theater_date currency  \\\n",
       "76                                        Ben Younger          2016        $   \n",
       "159                                  Derek Cianfrance          2016        $   \n",
       "190                                      Phyllis Nagy          2015        $   \n",
       "207                                               NaN          2016        $   \n",
       "247  Guillermo del Toro|Matthew Robbins|Lucinda Coxon          2015        $   \n",
       "\n",
       "     box_office      runtime  \n",
       "76      5051927  116 minutes  \n",
       "159    12533911  132 minutes  \n",
       "190     8518148  118 minutes  \n",
       "207      976847   97 minutes  \n",
       "247    25957696  119 minutes  "
      ]
     },
     "execution_count": 33,
     "metadata": {},
     "output_type": "execute_result"
    }
   ],
   "source": [
    "df5 = df5[df5.theater_date >= 2015]\n",
    "df5.head()\n",
    "\n",
    "#our problem statement prompts us to investigate recent movies, so let's remove movies that are 5+ years old"
   ]
  },
  {
   "cell_type": "code",
   "execution_count": 34,
   "metadata": {},
   "outputs": [
    {
     "data": {
      "text/html": [
       "<div>\n",
       "<style scoped>\n",
       "    .dataframe tbody tr th:only-of-type {\n",
       "        vertical-align: middle;\n",
       "    }\n",
       "\n",
       "    .dataframe tbody tr th {\n",
       "        vertical-align: top;\n",
       "    }\n",
       "\n",
       "    .dataframe thead th {\n",
       "        text-align: right;\n",
       "    }\n",
       "</style>\n",
       "<table border=\"1\" class=\"dataframe\">\n",
       "  <thead>\n",
       "    <tr style=\"text-align: right;\">\n",
       "      <th></th>\n",
       "      <th>rating</th>\n",
       "      <th>genre</th>\n",
       "      <th>director</th>\n",
       "      <th>writer</th>\n",
       "      <th>theater_date</th>\n",
       "      <th>currency</th>\n",
       "      <th>box_office</th>\n",
       "      <th>runtime</th>\n",
       "    </tr>\n",
       "  </thead>\n",
       "  <tbody>\n",
       "    <tr>\n",
       "      <td>862</td>\n",
       "      <td>R</td>\n",
       "      <td>Comedy|Drama</td>\n",
       "      <td>NaN</td>\n",
       "      <td>Kenya Barris|Tracy Oliver</td>\n",
       "      <td>2017</td>\n",
       "      <td>$</td>\n",
       "      <td>115088305</td>\n",
       "      <td>122 minutes</td>\n",
       "    </tr>\n",
       "    <tr>\n",
       "      <td>509</td>\n",
       "      <td>PG</td>\n",
       "      <td>Animation|Kids and Family</td>\n",
       "      <td>Clay Kaytis|Fergal Reilly</td>\n",
       "      <td>Jon Vitti</td>\n",
       "      <td>2016</td>\n",
       "      <td>$</td>\n",
       "      <td>107506776</td>\n",
       "      <td>95 minutes</td>\n",
       "    </tr>\n",
       "    <tr>\n",
       "      <td>434</td>\n",
       "      <td>PG-13</td>\n",
       "      <td>Comedy</td>\n",
       "      <td>Trish Sie</td>\n",
       "      <td>Mike White|Kay Cannon</td>\n",
       "      <td>2017</td>\n",
       "      <td>$</td>\n",
       "      <td>104880310</td>\n",
       "      <td>NaN</td>\n",
       "    </tr>\n",
       "    <tr>\n",
       "      <td>1469</td>\n",
       "      <td>R</td>\n",
       "      <td>Animation|Comedy</td>\n",
       "      <td>Conrad Vernon|Greg Tiernan</td>\n",
       "      <td>Kyle Hunter|Ariel Shaffir|Seth Rogen|Evan Gold...</td>\n",
       "      <td>2016</td>\n",
       "      <td>$</td>\n",
       "      <td>97661826</td>\n",
       "      <td>89 minutes</td>\n",
       "    </tr>\n",
       "    <tr>\n",
       "      <td>1328</td>\n",
       "      <td>PG-13</td>\n",
       "      <td>Drama</td>\n",
       "      <td>Ryan Coogler</td>\n",
       "      <td>Ryan Coogler|Aaron Covington</td>\n",
       "      <td>2015</td>\n",
       "      <td>$</td>\n",
       "      <td>81157671</td>\n",
       "      <td>132 minutes</td>\n",
       "    </tr>\n",
       "  </tbody>\n",
       "</table>\n",
       "</div>"
      ],
      "text/plain": [
       "     rating                      genre                    director  \\\n",
       "862       R               Comedy|Drama                         NaN   \n",
       "509      PG  Animation|Kids and Family   Clay Kaytis|Fergal Reilly   \n",
       "434   PG-13                     Comedy                   Trish Sie   \n",
       "1469      R           Animation|Comedy  Conrad Vernon|Greg Tiernan   \n",
       "1328  PG-13                      Drama                Ryan Coogler   \n",
       "\n",
       "                                                 writer  theater_date  \\\n",
       "862                           Kenya Barris|Tracy Oliver          2017   \n",
       "509                                           Jon Vitti          2016   \n",
       "434                               Mike White|Kay Cannon          2017   \n",
       "1469  Kyle Hunter|Ariel Shaffir|Seth Rogen|Evan Gold...          2016   \n",
       "1328                       Ryan Coogler|Aaron Covington          2015   \n",
       "\n",
       "     currency  box_office      runtime  \n",
       "862         $   115088305  122 minutes  \n",
       "509         $   107506776   95 minutes  \n",
       "434         $   104880310          NaN  \n",
       "1469        $    97661826   89 minutes  \n",
       "1328        $    81157671  132 minutes  "
      ]
     },
     "execution_count": 34,
     "metadata": {},
     "output_type": "execute_result"
    }
   ],
   "source": [
    "df5 = df5.sort_values(by=['box_office'], ascending=False)\n",
    "df5.head()\n",
    "\n",
    "#sorting the 'box_office' column in descending order"
   ]
  },
  {
   "cell_type": "code",
   "execution_count": 35,
   "metadata": {},
   "outputs": [
    {
     "data": {
      "text/plain": [
       "Drama                                                             0.325581\n",
       "Comedy|Drama                                                      0.093023\n",
       "Comedy                                                            0.093023\n",
       "Horror                                                            0.046512\n",
       "Animation|Comedy|Kids and Family                                  0.046512\n",
       "Drama|Mystery and Suspense                                        0.046512\n",
       "Drama|Romance                                                     0.046512\n",
       "Comedy|Romance                                                    0.046512\n",
       "Action and Adventure                                              0.023256\n",
       "Animation|Comedy                                                  0.023256\n",
       "Documentary                                                       0.023256\n",
       "Drama|Sports and Fitness                                          0.023256\n",
       "Action and Adventure|Drama|Western                                0.023256\n",
       "Art House and International|Drama|Mystery and Suspense|Romance    0.023256\n",
       "Action and Adventure|Art House and International                  0.023256\n",
       "Action and Adventure|Art House and International|Drama            0.023256\n",
       "Animation|Kids and Family                                         0.023256\n",
       "Drama|Horror                                                      0.023256\n",
       "Art House and International|Drama                                 0.023256\n",
       "Name: genre, dtype: float64"
      ]
     },
     "execution_count": 35,
     "metadata": {},
     "output_type": "execute_result"
    }
   ],
   "source": [
    "df5['genre'][0:100].value_counts(normalize=True)\n",
    "\n",
    "#investigating the distribution percentage across different factors"
   ]
  },
  {
   "cell_type": "code",
   "execution_count": 36,
   "metadata": {},
   "outputs": [
    {
     "data": {
      "text/plain": [
       "Paul Thomas Anderson          0.02439\n",
       "Guillermo del Toro            0.02439\n",
       "Mike Binder                   0.02439\n",
       "Julian Jarrold                0.02439\n",
       "Dante Lam                     0.02439\n",
       "Clay Kaytis|Fergal Reilly     0.02439\n",
       "Steven Soderbergh             0.02439\n",
       "Trish Sie                     0.02439\n",
       "Todd Haynes                   0.02439\n",
       "Stephen Bradley               0.02439\n",
       "Eleanor Coppola               0.02439\n",
       "Danny Boyle                   0.02439\n",
       "Ewan McGregor                 0.02439\n",
       "Jayro Bustamante              0.02439\n",
       "Dave McCary                   0.02439\n",
       "Walt Becker                   0.02439\n",
       "Barry Levinson                0.02439\n",
       "Derek Cianfrance              0.02439\n",
       "Ryan Coogler                  0.02439\n",
       "Kelly Fremon Craig            0.02439\n",
       "Youssef Delara                0.02439\n",
       "Daniel Lee                    0.02439\n",
       "Trey Edward Shults            0.02439\n",
       "Brad Furman                   0.02439\n",
       "Ash Brannon                   0.02439\n",
       "Peter Landesman               0.02439\n",
       "Glenn Ficarra|John Requa      0.02439\n",
       "Martin McDonagh               0.02439\n",
       "David Gelb                    0.02439\n",
       "Ang Lee                       0.02439\n",
       "Josh Mond                     0.02439\n",
       "Michael Showalter             0.02439\n",
       "Hirokazu Koreeda              0.02439\n",
       "Clint Eastwood                0.02439\n",
       "Conrad Vernon|Greg Tiernan    0.02439\n",
       "David Mackenzie               0.02439\n",
       "Ciro Guerra                   0.02439\n",
       "Jocelyn Moorhouse             0.02439\n",
       "Seth MacFarlane               0.02439\n",
       "Ben Younger                   0.02439\n",
       "Lucy Walker                   0.02439\n",
       "Name: director, dtype: float64"
      ]
     },
     "execution_count": 36,
     "metadata": {},
     "output_type": "execute_result"
    }
   ],
   "source": [
    "df5['director'][0:100].value_counts(normalize=True)\n",
    "\n",
    "#investigating the distribution percentage across different factors"
   ]
  },
  {
   "cell_type": "code",
   "execution_count": 44,
   "metadata": {},
   "outputs": [
    {
     "data": {
      "text/plain": [
       "R        0.511628\n",
       "PG-13    0.279070\n",
       "PG       0.139535\n",
       "NR       0.069767\n",
       "Name: rating, dtype: float64"
      ]
     },
     "execution_count": 44,
     "metadata": {},
     "output_type": "execute_result"
    }
   ],
   "source": [
    "df5['rating'][0:100].value_counts(normalize=True)\n",
    "\n",
    "#investigating the distribution percentage across different factors"
   ]
  },
  {
   "cell_type": "code",
   "execution_count": 45,
   "metadata": {},
   "outputs": [
    {
     "data": {
      "text/plain": [
       "95 minutes     0.083333\n",
       "120 minutes    0.083333\n",
       "119 minutes    0.083333\n",
       "132 minutes    0.083333\n",
       "89 minutes     0.041667\n",
       "86 minutes     0.041667\n",
       "91 minutes     0.041667\n",
       "122 minutes    0.041667\n",
       "115 minutes    0.041667\n",
       "90 minutes     0.041667\n",
       "80 minutes     0.041667\n",
       "148 minutes    0.041667\n",
       "118 minutes    0.041667\n",
       "127 minutes    0.041667\n",
       "83 minutes     0.041667\n",
       "98 minutes     0.041667\n",
       "102 minutes    0.041667\n",
       "111 minutes    0.041667\n",
       "116 minutes    0.041667\n",
       "92 minutes     0.041667\n",
       "Name: runtime, dtype: float64"
      ]
     },
     "execution_count": 45,
     "metadata": {},
     "output_type": "execute_result"
    }
   ],
   "source": [
    "df5['runtime'][0:25].value_counts(normalize=True)\n",
    "\n",
    "#investigating the distribution percentage across different factors"
   ]
  },
  {
   "cell_type": "code",
   "execution_count": 42,
   "metadata": {},
   "outputs": [
    {
     "data": {
      "text/plain": [
       "2016    0.395349\n",
       "2015    0.302326\n",
       "2017    0.255814\n",
       "2018    0.046512\n",
       "Name: theater_date, dtype: float64"
      ]
     },
     "execution_count": 42,
     "metadata": {},
     "output_type": "execute_result"
    }
   ],
   "source": [
    "df5['theater_date'][0:100].value_counts(normalize=True)\n",
    "\n",
    "#investigating the distribution percentage across different factors"
   ]
  },
  {
   "cell_type": "code",
   "execution_count": 51,
   "metadata": {},
   "outputs": [
    {
     "data": {
      "text/html": [
       "<div>\n",
       "<style scoped>\n",
       "    .dataframe tbody tr th:only-of-type {\n",
       "        vertical-align: middle;\n",
       "    }\n",
       "\n",
       "    .dataframe tbody tr th {\n",
       "        vertical-align: top;\n",
       "    }\n",
       "\n",
       "    .dataframe thead th {\n",
       "        text-align: right;\n",
       "    }\n",
       "</style>\n",
       "<table border=\"1\" class=\"dataframe\">\n",
       "  <thead>\n",
       "    <tr style=\"text-align: right;\">\n",
       "      <th></th>\n",
       "      <th>rating</th>\n",
       "      <th>genre</th>\n",
       "      <th>director</th>\n",
       "      <th>writer</th>\n",
       "      <th>theater_date</th>\n",
       "      <th>currency</th>\n",
       "      <th>box_office</th>\n",
       "      <th>runtime</th>\n",
       "    </tr>\n",
       "  </thead>\n",
       "  <tbody>\n",
       "    <tr>\n",
       "      <td>1</td>\n",
       "      <td>R</td>\n",
       "      <td>Drama|Science Fiction and Fantasy</td>\n",
       "      <td>David Cronenberg</td>\n",
       "      <td>David Cronenberg|Don DeLillo</td>\n",
       "      <td>2012</td>\n",
       "      <td>$</td>\n",
       "      <td>600000</td>\n",
       "      <td>108 minutes</td>\n",
       "    </tr>\n",
       "    <tr>\n",
       "      <td>6</td>\n",
       "      <td>PG-13</td>\n",
       "      <td>Comedy</td>\n",
       "      <td>Jake Kasdan</td>\n",
       "      <td>Mike White</td>\n",
       "      <td>2002</td>\n",
       "      <td>$</td>\n",
       "      <td>41032915</td>\n",
       "      <td>82 minutes</td>\n",
       "    </tr>\n",
       "    <tr>\n",
       "      <td>7</td>\n",
       "      <td>R</td>\n",
       "      <td>Drama</td>\n",
       "      <td>Ray Lawrence</td>\n",
       "      <td>Raymond Carver|Beatrix Christian</td>\n",
       "      <td>2006</td>\n",
       "      <td>$</td>\n",
       "      <td>224114</td>\n",
       "      <td>123 minutes</td>\n",
       "    </tr>\n",
       "    <tr>\n",
       "      <td>8</td>\n",
       "      <td>R</td>\n",
       "      <td>Drama</td>\n",
       "      <td>Taylor Hackford</td>\n",
       "      <td>Mark Jacobson</td>\n",
       "      <td>2010</td>\n",
       "      <td>$</td>\n",
       "      <td>134904</td>\n",
       "      <td>117 minutes</td>\n",
       "    </tr>\n",
       "    <tr>\n",
       "      <td>15</td>\n",
       "      <td>R</td>\n",
       "      <td>Comedy|Drama|Mystery and Suspense</td>\n",
       "      <td>George Hickenlooper</td>\n",
       "      <td>Norman Snider</td>\n",
       "      <td>2010</td>\n",
       "      <td>$</td>\n",
       "      <td>1039869</td>\n",
       "      <td>108 minutes</td>\n",
       "    </tr>\n",
       "  </tbody>\n",
       "</table>\n",
       "</div>"
      ],
      "text/plain": [
       "   rating                              genre             director  \\\n",
       "1       R  Drama|Science Fiction and Fantasy     David Cronenberg   \n",
       "6   PG-13                             Comedy          Jake Kasdan   \n",
       "7       R                              Drama         Ray Lawrence   \n",
       "8       R                              Drama      Taylor Hackford   \n",
       "15      R  Comedy|Drama|Mystery and Suspense  George Hickenlooper   \n",
       "\n",
       "                              writer  theater_date currency  box_office  \\\n",
       "1       David Cronenberg|Don DeLillo          2012        $      600000   \n",
       "6                         Mike White          2002        $    41032915   \n",
       "7   Raymond Carver|Beatrix Christian          2006        $      224114   \n",
       "8                      Mark Jacobson          2010        $      134904   \n",
       "15                     Norman Snider          2010        $     1039869   \n",
       "\n",
       "        runtime  \n",
       "1   108 minutes  \n",
       "6    82 minutes  \n",
       "7   123 minutes  \n",
       "8   117 minutes  \n",
       "15  108 minutes  "
      ]
     },
     "execution_count": 51,
     "metadata": {},
     "output_type": "execute_result"
    }
   ],
   "source": [
    "df5.head()"
   ]
  },
  {
   "cell_type": "code",
   "execution_count": 46,
   "metadata": {},
   "outputs": [],
   "source": [
    "df5.to_csv('rt.csv') #saving the sorted dataset at a csv"
   ]
  }
 ],
 "metadata": {
  "kernelspec": {
   "display_name": "Python 3",
   "language": "python",
   "name": "python3"
  },
  "language_info": {
   "codemirror_mode": {
    "name": "ipython",
    "version": 3
   },
   "file_extension": ".py",
   "mimetype": "text/x-python",
   "name": "python",
   "nbconvert_exporter": "python",
   "pygments_lexer": "ipython3",
   "version": "3.6.9"
  }
 },
 "nbformat": 4,
 "nbformat_minor": 2
}
