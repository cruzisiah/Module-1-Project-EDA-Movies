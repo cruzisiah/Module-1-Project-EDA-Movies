{
 "cells": [
  {
   "cell_type": "markdown",
   "metadata": {},
   "source": [
    "### Final Project Submission\n",
    "\n",
    "* Student name: Isiah Cruz\n",
    "* Student pace: Part-Time\n",
    "* Scheduled project review date/time: April 27, 2020\n",
    "* Instructor name: Eli Thomas\n",
    "* Blog post URL:"
   ]
  },
  {
   "cell_type": "markdown",
   "metadata": {},
   "source": [
    "# Data Exploration"
   ]
  },
  {
   "cell_type": "code",
   "execution_count": 2,
   "metadata": {},
   "outputs": [],
   "source": [
    "import pandas as pd #importing data analysis library under the alias pd\n",
    "import numpy as np #importing scientific computation library under the alias np"
   ]
  },
  {
   "cell_type": "code",
   "execution_count": 3,
   "metadata": {},
   "outputs": [],
   "source": [
    "df1 = pd.read_csv('imdb.ratings.cleaned.csv', index_col=0) #importing the cleaned IMDB ratings dataset\n",
    "df2 = pd.read_csv('imdb.title.basics.cleaned.csv', index_col=0) #importing the cleaned IMDB title basics dataset"
   ]
  },
  {
   "cell_type": "code",
   "execution_count": 4,
   "metadata": {},
   "outputs": [],
   "source": [
    "df3 = pd.merge(df1, df2, on='tconst', how='inner') #merge our 2 datasets with 'tconst' as our index"
   ]
  },
  {
   "cell_type": "code",
   "execution_count": 5,
   "metadata": {},
   "outputs": [],
   "source": [
    "df3 = df3.sort_values(by=['averagerating','numvotes'], ascending=False)\n",
    "\n",
    "#sort by 'Average Rating' and 'Numvotes' to detect the correlation between popularity & other factors like runtime"
   ]
  },
  {
   "cell_type": "code",
   "execution_count": 6,
   "metadata": {},
   "outputs": [
    {
     "data": {
      "text/plain": [
       "49.0"
      ]
     },
     "execution_count": 6,
     "metadata": {},
     "output_type": "execute_result"
    }
   ],
   "source": [
    "df3['numvotes'].median()\n",
    "\n",
    "#finding the median of the 'numvotes' column to get a sense of what a good critical mass for votes may be.\n",
    "#of course, a movie with a 100 rating and 1 vote will be judged differently than one with a 100 rating and 1000 votes"
   ]
  },
  {
   "cell_type": "code",
   "execution_count": 7,
   "metadata": {},
   "outputs": [
    {
     "data": {
      "text/plain": [
       "1841066"
      ]
     },
     "execution_count": 7,
     "metadata": {},
     "output_type": "execute_result"
    }
   ],
   "source": [
    "df3['numvotes'].max()\n",
    "\n",
    "#similar to our previous code except getting a sense of the movie with the most votes"
   ]
  },
  {
   "cell_type": "code",
   "execution_count": 8,
   "metadata": {},
   "outputs": [],
   "source": [
    "df3 = df3[df3.numvotes >= 49] #removing the rows where numvotes is not equal to the average of the numvotes column"
   ]
  },
  {
   "cell_type": "code",
   "execution_count": 9,
   "metadata": {},
   "outputs": [],
   "source": [
    "df3 = df3.sort_values(by=['averagerating','numvotes'], ascending=False)\n",
    "\n",
    "#re-sort the values now that only movies with a critical mass of votes are included (sorted by averagerating)"
   ]
  },
  {
   "cell_type": "code",
   "execution_count": 10,
   "metadata": {},
   "outputs": [
    {
     "data": {
      "text/plain": [
       "Documentary                        8\n",
       "Drama                              5\n",
       "Comedy,Drama,Family                2\n",
       "Comedy,Drama,Musical               1\n",
       "Adventure,Biography,Documentary    1\n",
       "Action                             1\n",
       "Drama,History                      1\n",
       "Biography                          1\n",
       "Documentary,Music                  1\n",
       "Documentary,Drama,Music            1\n",
       "Comedy,Drama                       1\n",
       "Comedy                             1\n",
       "Biography,Drama,History            1\n",
       "Name: genres, dtype: int64"
      ]
     },
     "execution_count": 10,
     "metadata": {},
     "output_type": "execute_result"
    }
   ],
   "source": [
    "df3['genres'][0:25].value_counts() #examine which genres have received the highest ratings (sorted by averagerating)"
   ]
  },
  {
   "cell_type": "code",
   "execution_count": 11,
   "metadata": {},
   "outputs": [
    {
     "data": {
      "text/html": [
       "<div>\n",
       "<style scoped>\n",
       "    .dataframe tbody tr th:only-of-type {\n",
       "        vertical-align: middle;\n",
       "    }\n",
       "\n",
       "    .dataframe tbody tr th {\n",
       "        vertical-align: top;\n",
       "    }\n",
       "\n",
       "    .dataframe thead th {\n",
       "        text-align: right;\n",
       "    }\n",
       "</style>\n",
       "<table border=\"1\" class=\"dataframe\">\n",
       "  <thead>\n",
       "    <tr style=\"text-align: right;\">\n",
       "      <th></th>\n",
       "      <th>tconst</th>\n",
       "      <th>averagerating</th>\n",
       "      <th>numvotes</th>\n",
       "      <th>primary_title</th>\n",
       "      <th>start_year</th>\n",
       "      <th>runtime_minutes</th>\n",
       "      <th>genres</th>\n",
       "    </tr>\n",
       "  </thead>\n",
       "  <tbody>\n",
       "    <tr>\n",
       "      <td>45623</td>\n",
       "      <td>tt9537008</td>\n",
       "      <td>99</td>\n",
       "      <td>417</td>\n",
       "      <td>Gini Helida Kathe</td>\n",
       "      <td>2019</td>\n",
       "      <td>138.0</td>\n",
       "      <td>Drama</td>\n",
       "    </tr>\n",
       "    <tr>\n",
       "      <td>63149</td>\n",
       "      <td>tt7131622</td>\n",
       "      <td>97</td>\n",
       "      <td>5600</td>\n",
       "      <td>Once Upon a Time ... in Hollywood</td>\n",
       "      <td>2019</td>\n",
       "      <td>159.0</td>\n",
       "      <td>Comedy,Drama</td>\n",
       "    </tr>\n",
       "    <tr>\n",
       "      <td>73780</td>\n",
       "      <td>tt8718580</td>\n",
       "      <td>97</td>\n",
       "      <td>639</td>\n",
       "      <td>Eghantham</td>\n",
       "      <td>2018</td>\n",
       "      <td>125.0</td>\n",
       "      <td>Drama</td>\n",
       "    </tr>\n",
       "    <tr>\n",
       "      <td>44325</td>\n",
       "      <td>tt9787524</td>\n",
       "      <td>97</td>\n",
       "      <td>72</td>\n",
       "      <td>DOSED</td>\n",
       "      <td>2019</td>\n",
       "      <td>82.0</td>\n",
       "      <td>Documentary</td>\n",
       "    </tr>\n",
       "    <tr>\n",
       "      <td>27195</td>\n",
       "      <td>tt6058226</td>\n",
       "      <td>96</td>\n",
       "      <td>2604</td>\n",
       "      <td>Ekvtime: Man of God</td>\n",
       "      <td>2018</td>\n",
       "      <td>132.0</td>\n",
       "      <td>Biography,Drama,History</td>\n",
       "    </tr>\n",
       "  </tbody>\n",
       "</table>\n",
       "</div>"
      ],
      "text/plain": [
       "          tconst  averagerating  numvotes                      primary_title  \\\n",
       "45623  tt9537008             99       417                  Gini Helida Kathe   \n",
       "63149  tt7131622             97      5600  Once Upon a Time ... in Hollywood   \n",
       "73780  tt8718580             97       639                          Eghantham   \n",
       "44325  tt9787524             97        72                              DOSED   \n",
       "27195  tt6058226             96      2604                Ekvtime: Man of God   \n",
       "\n",
       "       start_year runtime_minutes                   genres  \n",
       "45623        2019           138.0                    Drama  \n",
       "63149        2019           159.0             Comedy,Drama  \n",
       "73780        2018           125.0                    Drama  \n",
       "44325        2019            82.0              Documentary  \n",
       "27195        2018           132.0  Biography,Drama,History  "
      ]
     },
     "execution_count": 11,
     "metadata": {},
     "output_type": "execute_result"
    }
   ],
   "source": [
    "df3 = df3[df3.start_year >= 2015]\n",
    "df3.head()\n",
    "\n",
    "#our problem statement prompts us to investigate recent movies, so let's remove movies that are 5+ years old"
   ]
  },
  {
   "cell_type": "code",
   "execution_count": 12,
   "metadata": {},
   "outputs": [],
   "source": [
    "df3.to_csv('imdb.critics.csv') #saving the sorted dataset at a csv"
   ]
  },
  {
   "cell_type": "code",
   "execution_count": 13,
   "metadata": {},
   "outputs": [
    {
     "data": {
      "text/html": [
       "<div>\n",
       "<style scoped>\n",
       "    .dataframe tbody tr th:only-of-type {\n",
       "        vertical-align: middle;\n",
       "    }\n",
       "\n",
       "    .dataframe tbody tr th {\n",
       "        vertical-align: top;\n",
       "    }\n",
       "\n",
       "    .dataframe thead th {\n",
       "        text-align: right;\n",
       "    }\n",
       "</style>\n",
       "<table border=\"1\" class=\"dataframe\">\n",
       "  <thead>\n",
       "    <tr style=\"text-align: right;\">\n",
       "      <th></th>\n",
       "      <th>tconst</th>\n",
       "      <th>averagerating</th>\n",
       "      <th>numvotes</th>\n",
       "      <th>primary_title</th>\n",
       "      <th>start_year</th>\n",
       "      <th>runtime_minutes</th>\n",
       "      <th>genres</th>\n",
       "    </tr>\n",
       "  </thead>\n",
       "  <tbody>\n",
       "    <tr>\n",
       "      <td>60518</td>\n",
       "      <td>tt1431045</td>\n",
       "      <td>80</td>\n",
       "      <td>820847</td>\n",
       "      <td>Deadpool</td>\n",
       "      <td>2016</td>\n",
       "      <td>108.0</td>\n",
       "      <td>Action,Adventure,Comedy</td>\n",
       "    </tr>\n",
       "    <tr>\n",
       "      <td>36852</td>\n",
       "      <td>tt2488496</td>\n",
       "      <td>80</td>\n",
       "      <td>784780</td>\n",
       "      <td>Star Wars: Episode VII - The Force Awakens</td>\n",
       "      <td>2015</td>\n",
       "      <td>136.0</td>\n",
       "      <td>Action,Adventure,Fantasy</td>\n",
       "    </tr>\n",
       "    <tr>\n",
       "      <td>3195</td>\n",
       "      <td>tt1392190</td>\n",
       "      <td>81</td>\n",
       "      <td>780910</td>\n",
       "      <td>Mad Max: Fury Road</td>\n",
       "      <td>2015</td>\n",
       "      <td>120.0</td>\n",
       "      <td>Action,Adventure,Sci-Fi</td>\n",
       "    </tr>\n",
       "    <tr>\n",
       "      <td>29797</td>\n",
       "      <td>tt3659388</td>\n",
       "      <td>80</td>\n",
       "      <td>680116</td>\n",
       "      <td>The Martian</td>\n",
       "      <td>2015</td>\n",
       "      <td>144.0</td>\n",
       "      <td>Adventure,Drama,Sci-Fi</td>\n",
       "    </tr>\n",
       "    <tr>\n",
       "      <td>71879</td>\n",
       "      <td>tt4154756</td>\n",
       "      <td>85</td>\n",
       "      <td>670926</td>\n",
       "      <td>Avengers: Infinity War</td>\n",
       "      <td>2018</td>\n",
       "      <td>149.0</td>\n",
       "      <td>Action,Adventure,Sci-Fi</td>\n",
       "    </tr>\n",
       "  </tbody>\n",
       "</table>\n",
       "</div>"
      ],
      "text/plain": [
       "          tconst  averagerating  numvotes  \\\n",
       "60518  tt1431045             80    820847   \n",
       "36852  tt2488496             80    784780   \n",
       "3195   tt1392190             81    780910   \n",
       "29797  tt3659388             80    680116   \n",
       "71879  tt4154756             85    670926   \n",
       "\n",
       "                                    primary_title  start_year runtime_minutes  \\\n",
       "60518                                    Deadpool        2016           108.0   \n",
       "36852  Star Wars: Episode VII - The Force Awakens        2015           136.0   \n",
       "3195                           Mad Max: Fury Road        2015           120.0   \n",
       "29797                                 The Martian        2015           144.0   \n",
       "71879                      Avengers: Infinity War        2018           149.0   \n",
       "\n",
       "                         genres  \n",
       "60518   Action,Adventure,Comedy  \n",
       "36852  Action,Adventure,Fantasy  \n",
       "3195    Action,Adventure,Sci-Fi  \n",
       "29797    Adventure,Drama,Sci-Fi  \n",
       "71879   Action,Adventure,Sci-Fi  "
      ]
     },
     "execution_count": 13,
     "metadata": {},
     "output_type": "execute_result"
    }
   ],
   "source": [
    "df4 = df3.sort_values(by=['numvotes','averagerating'], ascending=False)\n",
    "df4.head()\n",
    "\n",
    "#re-sort the values now that only movies with a critical mass of votes are included (sorted by numvotes)"
   ]
  },
  {
   "cell_type": "code",
   "execution_count": 14,
   "metadata": {},
   "outputs": [],
   "source": [
    "df4 = df4[df4.numvotes >= 49] #removing the rows where numvotes is not equal to the average of the numvotes column"
   ]
  },
  {
   "cell_type": "code",
   "execution_count": 15,
   "metadata": {},
   "outputs": [],
   "source": [
    "df4 = df4[df4.start_year >= 2015]\n",
    "\n",
    "#our problem statement prompts us to investigate recent movies, so let's remove movies that are 5+ years old"
   ]
  },
  {
   "cell_type": "code",
   "execution_count": 16,
   "metadata": {},
   "outputs": [
    {
     "data": {
      "text/html": [
       "<div>\n",
       "<style scoped>\n",
       "    .dataframe tbody tr th:only-of-type {\n",
       "        vertical-align: middle;\n",
       "    }\n",
       "\n",
       "    .dataframe tbody tr th {\n",
       "        vertical-align: top;\n",
       "    }\n",
       "\n",
       "    .dataframe thead th {\n",
       "        text-align: right;\n",
       "    }\n",
       "</style>\n",
       "<table border=\"1\" class=\"dataframe\">\n",
       "  <thead>\n",
       "    <tr style=\"text-align: right;\">\n",
       "      <th></th>\n",
       "      <th>tconst</th>\n",
       "      <th>averagerating</th>\n",
       "      <th>numvotes</th>\n",
       "      <th>primary_title</th>\n",
       "      <th>start_year</th>\n",
       "      <th>runtime_minutes</th>\n",
       "      <th>genres</th>\n",
       "    </tr>\n",
       "  </thead>\n",
       "  <tbody>\n",
       "    <tr>\n",
       "      <td>60518</td>\n",
       "      <td>tt1431045</td>\n",
       "      <td>80</td>\n",
       "      <td>820847</td>\n",
       "      <td>Deadpool</td>\n",
       "      <td>2016</td>\n",
       "      <td>108.0</td>\n",
       "      <td>Action,Adventure,Comedy</td>\n",
       "    </tr>\n",
       "    <tr>\n",
       "      <td>36852</td>\n",
       "      <td>tt2488496</td>\n",
       "      <td>80</td>\n",
       "      <td>784780</td>\n",
       "      <td>Star Wars: Episode VII - The Force Awakens</td>\n",
       "      <td>2015</td>\n",
       "      <td>136.0</td>\n",
       "      <td>Action,Adventure,Fantasy</td>\n",
       "    </tr>\n",
       "    <tr>\n",
       "      <td>3195</td>\n",
       "      <td>tt1392190</td>\n",
       "      <td>81</td>\n",
       "      <td>780910</td>\n",
       "      <td>Mad Max: Fury Road</td>\n",
       "      <td>2015</td>\n",
       "      <td>120.0</td>\n",
       "      <td>Action,Adventure,Sci-Fi</td>\n",
       "    </tr>\n",
       "    <tr>\n",
       "      <td>29797</td>\n",
       "      <td>tt3659388</td>\n",
       "      <td>80</td>\n",
       "      <td>680116</td>\n",
       "      <td>The Martian</td>\n",
       "      <td>2015</td>\n",
       "      <td>144.0</td>\n",
       "      <td>Adventure,Drama,Sci-Fi</td>\n",
       "    </tr>\n",
       "    <tr>\n",
       "      <td>71879</td>\n",
       "      <td>tt4154756</td>\n",
       "      <td>85</td>\n",
       "      <td>670926</td>\n",
       "      <td>Avengers: Infinity War</td>\n",
       "      <td>2018</td>\n",
       "      <td>149.0</td>\n",
       "      <td>Action,Adventure,Sci-Fi</td>\n",
       "    </tr>\n",
       "  </tbody>\n",
       "</table>\n",
       "</div>"
      ],
      "text/plain": [
       "          tconst  averagerating  numvotes  \\\n",
       "60518  tt1431045             80    820847   \n",
       "36852  tt2488496             80    784780   \n",
       "3195   tt1392190             81    780910   \n",
       "29797  tt3659388             80    680116   \n",
       "71879  tt4154756             85    670926   \n",
       "\n",
       "                                    primary_title  start_year runtime_minutes  \\\n",
       "60518                                    Deadpool        2016           108.0   \n",
       "36852  Star Wars: Episode VII - The Force Awakens        2015           136.0   \n",
       "3195                           Mad Max: Fury Road        2015           120.0   \n",
       "29797                                 The Martian        2015           144.0   \n",
       "71879                      Avengers: Infinity War        2018           149.0   \n",
       "\n",
       "                         genres  \n",
       "60518   Action,Adventure,Comedy  \n",
       "36852  Action,Adventure,Fantasy  \n",
       "3195    Action,Adventure,Sci-Fi  \n",
       "29797    Adventure,Drama,Sci-Fi  \n",
       "71879   Action,Adventure,Sci-Fi  "
      ]
     },
     "execution_count": 16,
     "metadata": {},
     "output_type": "execute_result"
    }
   ],
   "source": [
    "df4.head() #taking a look at the first 5 cells in the dataset"
   ]
  },
  {
   "cell_type": "code",
   "execution_count": 17,
   "metadata": {},
   "outputs": [
    {
     "data": {
      "text/plain": [
       "Action,Adventure,Sci-Fi       8\n",
       "Action,Adventure,Fantasy      6\n",
       "Action,Adventure,Comedy       4\n",
       "Comedy,Drama,Music            1\n",
       "Action,Drama,History          1\n",
       "Adventure,Animation,Comedy    1\n",
       "Drama,Mystery,Sci-Fi          1\n",
       "Action,Adventure,Biography    1\n",
       "Adventure,Drama,Sci-Fi        1\n",
       "Action,Drama,Sci-Fi           1\n",
       "Name: genres, dtype: int64"
      ]
     },
     "execution_count": 17,
     "metadata": {},
     "output_type": "execute_result"
    }
   ],
   "source": [
    "df4['genres'][0:25].value_counts() #taking stock of any consistencies across genres"
   ]
  },
  {
   "cell_type": "code",
   "execution_count": 18,
   "metadata": {},
   "outputs": [],
   "source": [
    "df4.to_csv('imdb.popularity.csv') #saving the sorted dataset at a csv"
   ]
  },
  {
   "cell_type": "markdown",
   "metadata": {},
   "source": [
    "## Dataset #3: Rotten Tomatoes Movie Info"
   ]
  },
  {
   "cell_type": "code",
   "execution_count": 30,
   "metadata": {},
   "outputs": [],
   "source": [
    "df = pd.read_csv('rt.cleaned.csv') #importing the cleaned IMDB title basics dataset"
   ]
  },
  {
   "cell_type": "code",
   "execution_count": 31,
   "metadata": {},
   "outputs": [
    {
     "data": {
      "text/html": [
       "<div>\n",
       "<style scoped>\n",
       "    .dataframe tbody tr th:only-of-type {\n",
       "        vertical-align: middle;\n",
       "    }\n",
       "\n",
       "    .dataframe tbody tr th {\n",
       "        vertical-align: top;\n",
       "    }\n",
       "\n",
       "    .dataframe thead th {\n",
       "        text-align: right;\n",
       "    }\n",
       "</style>\n",
       "<table border=\"1\" class=\"dataframe\">\n",
       "  <thead>\n",
       "    <tr style=\"text-align: right;\">\n",
       "      <th></th>\n",
       "      <th>Unnamed: 0</th>\n",
       "      <th>rating</th>\n",
       "      <th>genre</th>\n",
       "      <th>director</th>\n",
       "      <th>writer</th>\n",
       "      <th>theater_date</th>\n",
       "      <th>currency</th>\n",
       "      <th>box_office</th>\n",
       "      <th>runtime</th>\n",
       "    </tr>\n",
       "  </thead>\n",
       "  <tbody>\n",
       "    <tr>\n",
       "      <td>0</td>\n",
       "      <td>827</td>\n",
       "      <td>R</td>\n",
       "      <td>Drama</td>\n",
       "      <td>Mel Gibson</td>\n",
       "      <td>Mel Gibson|Benedict Fitzgerald</td>\n",
       "      <td>2004</td>\n",
       "      <td>$</td>\n",
       "      <td>368000000</td>\n",
       "      <td>127 minutes</td>\n",
       "    </tr>\n",
       "    <tr>\n",
       "      <td>1</td>\n",
       "      <td>877</td>\n",
       "      <td>PG-13</td>\n",
       "      <td>Action and Adventure|Science Fiction and Fantasy</td>\n",
       "      <td>Peter Jackson</td>\n",
       "      <td>Peter Jackson|Philippa Boyens|Guillermo del To...</td>\n",
       "      <td>2012</td>\n",
       "      <td>$</td>\n",
       "      <td>303001229</td>\n",
       "      <td>170 minutes</td>\n",
       "    </tr>\n",
       "    <tr>\n",
       "      <td>2</td>\n",
       "      <td>1188</td>\n",
       "      <td>PG-13</td>\n",
       "      <td>Action and Adventure|Mystery and Suspense</td>\n",
       "      <td>Sam Mendes</td>\n",
       "      <td>John Logan|Robert Wade|Neal Purvis</td>\n",
       "      <td>2012</td>\n",
       "      <td>$</td>\n",
       "      <td>299300000</td>\n",
       "      <td>145 minutes</td>\n",
       "    </tr>\n",
       "    <tr>\n",
       "      <td>3</td>\n",
       "      <td>690</td>\n",
       "      <td>PG-13</td>\n",
       "      <td>Comedy</td>\n",
       "      <td>Jay Roach</td>\n",
       "      <td>Jim Herzfeld|John Hamburg</td>\n",
       "      <td>2004</td>\n",
       "      <td>$</td>\n",
       "      <td>279167575</td>\n",
       "      <td>118 minutes</td>\n",
       "    </tr>\n",
       "    <tr>\n",
       "      <td>4</td>\n",
       "      <td>1117</td>\n",
       "      <td>PG</td>\n",
       "      <td>Kids and Family|Science Fiction and Fantasy</td>\n",
       "      <td>Chris Columbus</td>\n",
       "      <td>Steve Kloves</td>\n",
       "      <td>2002</td>\n",
       "      <td>$</td>\n",
       "      <td>261835892</td>\n",
       "      <td>161 minutes</td>\n",
       "    </tr>\n",
       "  </tbody>\n",
       "</table>\n",
       "</div>"
      ],
      "text/plain": [
       "   Unnamed: 0 rating                                             genre  \\\n",
       "0         827      R                                             Drama   \n",
       "1         877  PG-13  Action and Adventure|Science Fiction and Fantasy   \n",
       "2        1188  PG-13         Action and Adventure|Mystery and Suspense   \n",
       "3         690  PG-13                                            Comedy   \n",
       "4        1117     PG       Kids and Family|Science Fiction and Fantasy   \n",
       "\n",
       "         director                                             writer  \\\n",
       "0      Mel Gibson                     Mel Gibson|Benedict Fitzgerald   \n",
       "1   Peter Jackson  Peter Jackson|Philippa Boyens|Guillermo del To...   \n",
       "2      Sam Mendes                 John Logan|Robert Wade|Neal Purvis   \n",
       "3       Jay Roach                          Jim Herzfeld|John Hamburg   \n",
       "4  Chris Columbus                                       Steve Kloves   \n",
       "\n",
       "   theater_date currency  box_office      runtime  \n",
       "0          2004        $   368000000  127 minutes  \n",
       "1          2012        $   303001229  170 minutes  \n",
       "2          2012        $   299300000  145 minutes  \n",
       "3          2004        $   279167575  118 minutes  \n",
       "4          2002        $   261835892  161 minutes  "
      ]
     },
     "execution_count": 31,
     "metadata": {},
     "output_type": "execute_result"
    }
   ],
   "source": [
    "df.head()"
   ]
  },
  {
   "cell_type": "code",
   "execution_count": 32,
   "metadata": {},
   "outputs": [
    {
     "data": {
      "text/html": [
       "<div>\n",
       "<style scoped>\n",
       "    .dataframe tbody tr th:only-of-type {\n",
       "        vertical-align: middle;\n",
       "    }\n",
       "\n",
       "    .dataframe tbody tr th {\n",
       "        vertical-align: top;\n",
       "    }\n",
       "\n",
       "    .dataframe thead th {\n",
       "        text-align: right;\n",
       "    }\n",
       "</style>\n",
       "<table border=\"1\" class=\"dataframe\">\n",
       "  <thead>\n",
       "    <tr style=\"text-align: right;\">\n",
       "      <th></th>\n",
       "      <th>Unnamed: 0</th>\n",
       "      <th>rating</th>\n",
       "      <th>genre</th>\n",
       "      <th>director</th>\n",
       "      <th>writer</th>\n",
       "      <th>theater_date</th>\n",
       "      <th>currency</th>\n",
       "      <th>box_office</th>\n",
       "      <th>runtime</th>\n",
       "    </tr>\n",
       "  </thead>\n",
       "  <tbody>\n",
       "    <tr>\n",
       "      <td>31</td>\n",
       "      <td>862</td>\n",
       "      <td>R</td>\n",
       "      <td>Comedy|Drama</td>\n",
       "      <td>NaN</td>\n",
       "      <td>Kenya Barris|Tracy Oliver</td>\n",
       "      <td>2017</td>\n",
       "      <td>$</td>\n",
       "      <td>115088305</td>\n",
       "      <td>122 minutes</td>\n",
       "    </tr>\n",
       "    <tr>\n",
       "      <td>34</td>\n",
       "      <td>509</td>\n",
       "      <td>PG</td>\n",
       "      <td>Animation|Kids and Family</td>\n",
       "      <td>Clay Kaytis|Fergal Reilly</td>\n",
       "      <td>Jon Vitti</td>\n",
       "      <td>2016</td>\n",
       "      <td>$</td>\n",
       "      <td>107506776</td>\n",
       "      <td>95 minutes</td>\n",
       "    </tr>\n",
       "    <tr>\n",
       "      <td>37</td>\n",
       "      <td>434</td>\n",
       "      <td>PG-13</td>\n",
       "      <td>Comedy</td>\n",
       "      <td>Trish Sie</td>\n",
       "      <td>Mike White|Kay Cannon</td>\n",
       "      <td>2017</td>\n",
       "      <td>$</td>\n",
       "      <td>104880310</td>\n",
       "      <td>NaN</td>\n",
       "    </tr>\n",
       "    <tr>\n",
       "      <td>42</td>\n",
       "      <td>1469</td>\n",
       "      <td>R</td>\n",
       "      <td>Animation|Comedy</td>\n",
       "      <td>Conrad Vernon|Greg Tiernan</td>\n",
       "      <td>Kyle Hunter|Ariel Shaffir|Seth Rogen|Evan Gold...</td>\n",
       "      <td>2016</td>\n",
       "      <td>$</td>\n",
       "      <td>97661826</td>\n",
       "      <td>89 minutes</td>\n",
       "    </tr>\n",
       "    <tr>\n",
       "      <td>52</td>\n",
       "      <td>1328</td>\n",
       "      <td>PG-13</td>\n",
       "      <td>Drama</td>\n",
       "      <td>Ryan Coogler</td>\n",
       "      <td>Ryan Coogler|Aaron Covington</td>\n",
       "      <td>2015</td>\n",
       "      <td>$</td>\n",
       "      <td>81157671</td>\n",
       "      <td>132 minutes</td>\n",
       "    </tr>\n",
       "  </tbody>\n",
       "</table>\n",
       "</div>"
      ],
      "text/plain": [
       "    Unnamed: 0 rating                      genre                    director  \\\n",
       "31         862      R               Comedy|Drama                         NaN   \n",
       "34         509     PG  Animation|Kids and Family   Clay Kaytis|Fergal Reilly   \n",
       "37         434  PG-13                     Comedy                   Trish Sie   \n",
       "42        1469      R           Animation|Comedy  Conrad Vernon|Greg Tiernan   \n",
       "52        1328  PG-13                      Drama                Ryan Coogler   \n",
       "\n",
       "                                               writer  theater_date currency  \\\n",
       "31                          Kenya Barris|Tracy Oliver          2017        $   \n",
       "34                                          Jon Vitti          2016        $   \n",
       "37                              Mike White|Kay Cannon          2017        $   \n",
       "42  Kyle Hunter|Ariel Shaffir|Seth Rogen|Evan Gold...          2016        $   \n",
       "52                       Ryan Coogler|Aaron Covington          2015        $   \n",
       "\n",
       "    box_office      runtime  \n",
       "31   115088305  122 minutes  \n",
       "34   107506776   95 minutes  \n",
       "37   104880310          NaN  \n",
       "42    97661826   89 minutes  \n",
       "52    81157671  132 minutes  "
      ]
     },
     "execution_count": 32,
     "metadata": {},
     "output_type": "execute_result"
    }
   ],
   "source": [
    "df = df[df.theater_date >= 2015]\n",
    "df.head()\n",
    "\n",
    "#our problem statement prompts us to investigate recent movies, so let's remove movies that are 5+ years old"
   ]
  },
  {
   "cell_type": "code",
   "execution_count": 33,
   "metadata": {},
   "outputs": [
    {
     "data": {
      "text/html": [
       "<div>\n",
       "<style scoped>\n",
       "    .dataframe tbody tr th:only-of-type {\n",
       "        vertical-align: middle;\n",
       "    }\n",
       "\n",
       "    .dataframe tbody tr th {\n",
       "        vertical-align: top;\n",
       "    }\n",
       "\n",
       "    .dataframe thead th {\n",
       "        text-align: right;\n",
       "    }\n",
       "</style>\n",
       "<table border=\"1\" class=\"dataframe\">\n",
       "  <thead>\n",
       "    <tr style=\"text-align: right;\">\n",
       "      <th></th>\n",
       "      <th>Unnamed: 0</th>\n",
       "      <th>rating</th>\n",
       "      <th>genre</th>\n",
       "      <th>director</th>\n",
       "      <th>writer</th>\n",
       "      <th>theater_date</th>\n",
       "      <th>currency</th>\n",
       "      <th>box_office</th>\n",
       "      <th>runtime</th>\n",
       "    </tr>\n",
       "  </thead>\n",
       "  <tbody>\n",
       "    <tr>\n",
       "      <td>31</td>\n",
       "      <td>862</td>\n",
       "      <td>R</td>\n",
       "      <td>Comedy|Drama</td>\n",
       "      <td>NaN</td>\n",
       "      <td>Kenya Barris|Tracy Oliver</td>\n",
       "      <td>2017</td>\n",
       "      <td>$</td>\n",
       "      <td>115088305</td>\n",
       "      <td>122 minutes</td>\n",
       "    </tr>\n",
       "    <tr>\n",
       "      <td>34</td>\n",
       "      <td>509</td>\n",
       "      <td>PG</td>\n",
       "      <td>Animation|Kids and Family</td>\n",
       "      <td>Clay Kaytis|Fergal Reilly</td>\n",
       "      <td>Jon Vitti</td>\n",
       "      <td>2016</td>\n",
       "      <td>$</td>\n",
       "      <td>107506776</td>\n",
       "      <td>95 minutes</td>\n",
       "    </tr>\n",
       "    <tr>\n",
       "      <td>37</td>\n",
       "      <td>434</td>\n",
       "      <td>PG-13</td>\n",
       "      <td>Comedy</td>\n",
       "      <td>Trish Sie</td>\n",
       "      <td>Mike White|Kay Cannon</td>\n",
       "      <td>2017</td>\n",
       "      <td>$</td>\n",
       "      <td>104880310</td>\n",
       "      <td>NaN</td>\n",
       "    </tr>\n",
       "    <tr>\n",
       "      <td>42</td>\n",
       "      <td>1469</td>\n",
       "      <td>R</td>\n",
       "      <td>Animation|Comedy</td>\n",
       "      <td>Conrad Vernon|Greg Tiernan</td>\n",
       "      <td>Kyle Hunter|Ariel Shaffir|Seth Rogen|Evan Gold...</td>\n",
       "      <td>2016</td>\n",
       "      <td>$</td>\n",
       "      <td>97661826</td>\n",
       "      <td>89 minutes</td>\n",
       "    </tr>\n",
       "    <tr>\n",
       "      <td>52</td>\n",
       "      <td>1328</td>\n",
       "      <td>PG-13</td>\n",
       "      <td>Drama</td>\n",
       "      <td>Ryan Coogler</td>\n",
       "      <td>Ryan Coogler|Aaron Covington</td>\n",
       "      <td>2015</td>\n",
       "      <td>$</td>\n",
       "      <td>81157671</td>\n",
       "      <td>132 minutes</td>\n",
       "    </tr>\n",
       "  </tbody>\n",
       "</table>\n",
       "</div>"
      ],
      "text/plain": [
       "    Unnamed: 0 rating                      genre                    director  \\\n",
       "31         862      R               Comedy|Drama                         NaN   \n",
       "34         509     PG  Animation|Kids and Family   Clay Kaytis|Fergal Reilly   \n",
       "37         434  PG-13                     Comedy                   Trish Sie   \n",
       "42        1469      R           Animation|Comedy  Conrad Vernon|Greg Tiernan   \n",
       "52        1328  PG-13                      Drama                Ryan Coogler   \n",
       "\n",
       "                                               writer  theater_date currency  \\\n",
       "31                          Kenya Barris|Tracy Oliver          2017        $   \n",
       "34                                          Jon Vitti          2016        $   \n",
       "37                              Mike White|Kay Cannon          2017        $   \n",
       "42  Kyle Hunter|Ariel Shaffir|Seth Rogen|Evan Gold...          2016        $   \n",
       "52                       Ryan Coogler|Aaron Covington          2015        $   \n",
       "\n",
       "    box_office      runtime  \n",
       "31   115088305  122 minutes  \n",
       "34   107506776   95 minutes  \n",
       "37   104880310          NaN  \n",
       "42    97661826   89 minutes  \n",
       "52    81157671  132 minutes  "
      ]
     },
     "execution_count": 33,
     "metadata": {},
     "output_type": "execute_result"
    }
   ],
   "source": [
    "df = df.sort_values(by=['box_office'], ascending=False)\n",
    "df.head()"
   ]
  },
  {
   "cell_type": "code",
   "execution_count": 34,
   "metadata": {},
   "outputs": [
    {
     "data": {
      "text/plain": [
       "Drama                                                             14\n",
       "Comedy                                                             4\n",
       "Comedy|Drama                                                       4\n",
       "Drama|Romance                                                      2\n",
       "Drama|Mystery and Suspense                                         2\n",
       "Animation|Comedy|Kids and Family                                   2\n",
       "Horror                                                             2\n",
       "Comedy|Romance                                                     2\n",
       "Documentary                                                        1\n",
       "Action and Adventure|Drama|Western                                 1\n",
       "Drama|Horror                                                       1\n",
       "Art House and International|Drama|Mystery and Suspense|Romance     1\n",
       "Action and Adventure|Art House and International                   1\n",
       "Animation|Comedy                                                   1\n",
       "Animation|Kids and Family                                          1\n",
       "Action and Adventure                                               1\n",
       "Art House and International|Drama                                  1\n",
       "Drama|Sports and Fitness                                           1\n",
       "Action and Adventure|Art House and International|Drama             1\n",
       "Name: genre, dtype: int64"
      ]
     },
     "execution_count": 34,
     "metadata": {},
     "output_type": "execute_result"
    }
   ],
   "source": [
    "df['genre'][0:100].value_counts()"
   ]
  },
  {
   "cell_type": "code",
   "execution_count": 35,
   "metadata": {},
   "outputs": [
    {
     "data": {
      "text/plain": [
       "Josh Mond                     1\n",
       "Brad Furman                   1\n",
       "Danny Boyle                   1\n",
       "Eleanor Coppola               1\n",
       "Trey Edward Shults            1\n",
       "Ewan McGregor                 1\n",
       "Clint Eastwood                1\n",
       "Guillermo del Toro            1\n",
       "Ryan Coogler                  1\n",
       "Michael Showalter             1\n",
       "Julian Jarrold                1\n",
       "Paul Thomas Anderson          1\n",
       "Kelly Fremon Craig            1\n",
       "Derek Cianfrance              1\n",
       "Trish Sie                     1\n",
       "Jocelyn Moorhouse             1\n",
       "Martin McDonagh               1\n",
       "Youssef Delara                1\n",
       "Ash Brannon                   1\n",
       "Hirokazu Koreeda              1\n",
       "Lucy Walker                   1\n",
       "Glenn Ficarra|John Requa      1\n",
       "Ciro Guerra                   1\n",
       "Steven Soderbergh             1\n",
       "Stephen Bradley               1\n",
       "Seth MacFarlane               1\n",
       "David Mackenzie               1\n",
       "Barry Levinson                1\n",
       "David Gelb                    1\n",
       "Dante Lam                     1\n",
       "Dave McCary                   1\n",
       "Conrad Vernon|Greg Tiernan    1\n",
       "Mike Binder                   1\n",
       "Jayro Bustamante              1\n",
       "Peter Landesman               1\n",
       "Todd Haynes                   1\n",
       "Ben Younger                   1\n",
       "Clay Kaytis|Fergal Reilly     1\n",
       "Walt Becker                   1\n",
       "Daniel Lee                    1\n",
       "Ang Lee                       1\n",
       "Name: director, dtype: int64"
      ]
     },
     "execution_count": 35,
     "metadata": {},
     "output_type": "execute_result"
    }
   ],
   "source": [
    "df['director'][0:100].value_counts()"
   ]
  },
  {
   "cell_type": "code",
   "execution_count": 36,
   "metadata": {},
   "outputs": [
    {
     "data": {
      "text/plain": [
       "R        22\n",
       "PG-13    12\n",
       "PG        6\n",
       "NR        3\n",
       "Name: rating, dtype: int64"
      ]
     },
     "execution_count": 36,
     "metadata": {},
     "output_type": "execute_result"
    }
   ],
   "source": [
    "df['rating'][0:100].value_counts()"
   ]
  },
  {
   "cell_type": "code",
   "execution_count": 37,
   "metadata": {},
   "outputs": [
    {
     "data": {
      "text/plain": [
       "120 minutes    2\n",
       "95 minutes     2\n",
       "119 minutes    2\n",
       "132 minutes    2\n",
       "127 minutes    1\n",
       "90 minutes     1\n",
       "115 minutes    1\n",
       "80 minutes     1\n",
       "111 minutes    1\n",
       "148 minutes    1\n",
       "92 minutes     1\n",
       "118 minutes    1\n",
       "116 minutes    1\n",
       "89 minutes     1\n",
       "83 minutes     1\n",
       "98 minutes     1\n",
       "122 minutes    1\n",
       "102 minutes    1\n",
       "91 minutes     1\n",
       "86 minutes     1\n",
       "Name: runtime, dtype: int64"
      ]
     },
     "execution_count": 37,
     "metadata": {},
     "output_type": "execute_result"
    }
   ],
   "source": [
    "df['runtime'][0:25].value_counts()"
   ]
  },
  {
   "cell_type": "code",
   "execution_count": 38,
   "metadata": {},
   "outputs": [
    {
     "data": {
      "text/plain": [
       "2016    17\n",
       "2015    13\n",
       "2017    11\n",
       "2018     2\n",
       "Name: theater_date, dtype: int64"
      ]
     },
     "execution_count": 38,
     "metadata": {},
     "output_type": "execute_result"
    }
   ],
   "source": [
    "df['theater_date'][0:100].value_counts()"
   ]
  },
  {
   "cell_type": "code",
   "execution_count": 39,
   "metadata": {},
   "outputs": [],
   "source": [
    "df.to_csv('rt.csv') #saving the sorted dataset at a csv"
   ]
  }
 ],
 "metadata": {
  "kernelspec": {
   "display_name": "Python 3",
   "language": "python",
   "name": "python3"
  },
  "language_info": {
   "codemirror_mode": {
    "name": "ipython",
    "version": 3
   },
   "file_extension": ".py",
   "mimetype": "text/x-python",
   "name": "python",
   "nbconvert_exporter": "python",
   "pygments_lexer": "ipython3",
   "version": "3.6.9"
  }
 },
 "nbformat": 4,
 "nbformat_minor": 2
}
