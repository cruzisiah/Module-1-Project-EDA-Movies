{
 "cells": [
  {
   "cell_type": "markdown",
   "metadata": {},
   "source": [
    "### Final Project Submission\n",
    "\n",
    "* Student name: Isiah Cruz\n",
    "* Student pace: Part-Time\n",
    "* Scheduled project review date/time: April 27, 2020\n",
    "* Instructor name: Eli Thomas\n",
    "* Blog post URL:"
   ]
  },
  {
   "cell_type": "markdown",
   "metadata": {},
   "source": [
    "# Data Exploration"
   ]
  },
  {
   "cell_type": "code",
   "execution_count": 2,
   "metadata": {},
   "outputs": [],
   "source": [
    "import pandas as pd #importing data analysis library under the alias pd\n",
    "import numpy as np #importing scientific computation library under the alias np"
   ]
  },
  {
   "cell_type": "code",
   "execution_count": 6,
   "metadata": {},
   "outputs": [],
   "source": [
    "df1 = pd.read_csv('imdb.ratings.cleaned.csv', index_col=0) #importing the cleaned IMDB ratings dataset\n",
    "df2 = pd.read_csv('imdb.title.basics.cleaned.csv', index_col=0) #importing the cleaned IMDB title basics dataset"
   ]
  },
  {
   "cell_type": "code",
   "execution_count": 7,
   "metadata": {},
   "outputs": [],
   "source": [
    "df3 = pd.merge(df1, df2, on='tconst', how='inner') #merge our 2 datasets with 'tconst' as our index"
   ]
  },
  {
   "cell_type": "code",
   "execution_count": 11,
   "metadata": {},
   "outputs": [],
   "source": [
    "df3 = df3.sort_values(by=['averagerating','numvotes'], ascending=False)\n",
    "\n",
    "#sort by 'Average Rating' and 'Numvotes' to detect the correlation between popularity & other factors like runtime"
   ]
  },
  {
   "cell_type": "code",
   "execution_count": 12,
   "metadata": {},
   "outputs": [
    {
     "data": {
      "text/plain": [
       "49.0"
      ]
     },
     "execution_count": 12,
     "metadata": {},
     "output_type": "execute_result"
    }
   ],
   "source": [
    "df3['numvotes'].median()\n",
    "\n",
    "#finding the median of the 'numvotes' column to get a sense of what a good critical mass for votes may be.\n",
    "#of course, a movie with a 100 rating and 1 vote will be judged differently than one with a 100 rating and 1000 votes"
   ]
  },
  {
   "cell_type": "code",
   "execution_count": 13,
   "metadata": {},
   "outputs": [
    {
     "data": {
      "text/plain": [
       "1841066"
      ]
     },
     "execution_count": 13,
     "metadata": {},
     "output_type": "execute_result"
    }
   ],
   "source": [
    "df3['numvotes'].max()\n",
    "\n",
    "#similar to our previous code except getting a sense of the movie with the most votes"
   ]
  },
  {
   "cell_type": "code",
   "execution_count": 14,
   "metadata": {},
   "outputs": [],
   "source": [
    "df3 = df3[df3.numvotes >= 49] #removing the rows where numvotes is not equal to the average of the numvotes column"
   ]
  },
  {
   "cell_type": "code",
   "execution_count": 15,
   "metadata": {},
   "outputs": [],
   "source": [
    "df3 = df3.sort_values(by=['averagerating','numvotes'], ascending=False)\n",
    "\n",
    "#re-sort the values now that only movies with a critical mass of votes are included (sorted by averagerating)"
   ]
  },
  {
   "cell_type": "code",
   "execution_count": 16,
   "metadata": {},
   "outputs": [
    {
     "data": {
      "text/plain": [
       "Documentary                        8\n",
       "Drama                              5\n",
       "Comedy,Drama,Family                2\n",
       "Biography,Drama,History            1\n",
       "Documentary,Drama,Music            1\n",
       "Action                             1\n",
       "Documentary,Music                  1\n",
       "Biography                          1\n",
       "Comedy,Drama,Musical               1\n",
       "Comedy,Drama                       1\n",
       "Drama,History                      1\n",
       "Comedy                             1\n",
       "Adventure,Biography,Documentary    1\n",
       "Name: genres, dtype: int64"
      ]
     },
     "execution_count": 16,
     "metadata": {},
     "output_type": "execute_result"
    }
   ],
   "source": [
    "df3['genres'][0:25].value_counts() #examine which genres have received the highest ratings (sorted by averagerating)"
   ]
  },
  {
   "cell_type": "code",
   "execution_count": 17,
   "metadata": {},
   "outputs": [
    {
     "data": {
      "text/html": [
       "<div>\n",
       "<style scoped>\n",
       "    .dataframe tbody tr th:only-of-type {\n",
       "        vertical-align: middle;\n",
       "    }\n",
       "\n",
       "    .dataframe tbody tr th {\n",
       "        vertical-align: top;\n",
       "    }\n",
       "\n",
       "    .dataframe thead th {\n",
       "        text-align: right;\n",
       "    }\n",
       "</style>\n",
       "<table border=\"1\" class=\"dataframe\">\n",
       "  <thead>\n",
       "    <tr style=\"text-align: right;\">\n",
       "      <th></th>\n",
       "      <th>tconst</th>\n",
       "      <th>averagerating</th>\n",
       "      <th>numvotes</th>\n",
       "      <th>primary_title</th>\n",
       "      <th>start_year</th>\n",
       "      <th>runtime_minutes</th>\n",
       "      <th>genres</th>\n",
       "    </tr>\n",
       "  </thead>\n",
       "  <tbody>\n",
       "    <tr>\n",
       "      <td>45623</td>\n",
       "      <td>tt9537008</td>\n",
       "      <td>99</td>\n",
       "      <td>417</td>\n",
       "      <td>Gini Helida Kathe</td>\n",
       "      <td>2019</td>\n",
       "      <td>138.0</td>\n",
       "      <td>Drama</td>\n",
       "    </tr>\n",
       "    <tr>\n",
       "      <td>63149</td>\n",
       "      <td>tt7131622</td>\n",
       "      <td>97</td>\n",
       "      <td>5600</td>\n",
       "      <td>Once Upon a Time ... in Hollywood</td>\n",
       "      <td>2019</td>\n",
       "      <td>159.0</td>\n",
       "      <td>Comedy,Drama</td>\n",
       "    </tr>\n",
       "    <tr>\n",
       "      <td>73780</td>\n",
       "      <td>tt8718580</td>\n",
       "      <td>97</td>\n",
       "      <td>639</td>\n",
       "      <td>Eghantham</td>\n",
       "      <td>2018</td>\n",
       "      <td>125.0</td>\n",
       "      <td>Drama</td>\n",
       "    </tr>\n",
       "    <tr>\n",
       "      <td>44325</td>\n",
       "      <td>tt9787524</td>\n",
       "      <td>97</td>\n",
       "      <td>72</td>\n",
       "      <td>DOSED</td>\n",
       "      <td>2019</td>\n",
       "      <td>82.0</td>\n",
       "      <td>Documentary</td>\n",
       "    </tr>\n",
       "    <tr>\n",
       "      <td>27195</td>\n",
       "      <td>tt6058226</td>\n",
       "      <td>96</td>\n",
       "      <td>2604</td>\n",
       "      <td>Ekvtime: Man of God</td>\n",
       "      <td>2018</td>\n",
       "      <td>132.0</td>\n",
       "      <td>Biography,Drama,History</td>\n",
       "    </tr>\n",
       "  </tbody>\n",
       "</table>\n",
       "</div>"
      ],
      "text/plain": [
       "          tconst  averagerating  numvotes                      primary_title  \\\n",
       "45623  tt9537008             99       417                  Gini Helida Kathe   \n",
       "63149  tt7131622             97      5600  Once Upon a Time ... in Hollywood   \n",
       "73780  tt8718580             97       639                          Eghantham   \n",
       "44325  tt9787524             97        72                              DOSED   \n",
       "27195  tt6058226             96      2604                Ekvtime: Man of God   \n",
       "\n",
       "       start_year runtime_minutes                   genres  \n",
       "45623        2019           138.0                    Drama  \n",
       "63149        2019           159.0             Comedy,Drama  \n",
       "73780        2018           125.0                    Drama  \n",
       "44325        2019            82.0              Documentary  \n",
       "27195        2018           132.0  Biography,Drama,History  "
      ]
     },
     "execution_count": 17,
     "metadata": {},
     "output_type": "execute_result"
    }
   ],
   "source": [
    "df3 = df3[df3.start_year >= 2015]\n",
    "df3.head()\n",
    "\n",
    "#our problem statement prompts us to investigate recent movies, so let's remove movies that are 5+ years old"
   ]
  },
  {
   "cell_type": "code",
   "execution_count": 18,
   "metadata": {},
   "outputs": [],
   "source": [
    "df3.to_csv('imdb.critics.csv') #saving the sorted dataset at a csv"
   ]
  },
  {
   "cell_type": "code",
   "execution_count": 22,
   "metadata": {},
   "outputs": [
    {
     "data": {
      "text/html": [
       "<div>\n",
       "<style scoped>\n",
       "    .dataframe tbody tr th:only-of-type {\n",
       "        vertical-align: middle;\n",
       "    }\n",
       "\n",
       "    .dataframe tbody tr th {\n",
       "        vertical-align: top;\n",
       "    }\n",
       "\n",
       "    .dataframe thead th {\n",
       "        text-align: right;\n",
       "    }\n",
       "</style>\n",
       "<table border=\"1\" class=\"dataframe\">\n",
       "  <thead>\n",
       "    <tr style=\"text-align: right;\">\n",
       "      <th></th>\n",
       "      <th>tconst</th>\n",
       "      <th>averagerating</th>\n",
       "      <th>numvotes</th>\n",
       "      <th>primary_title</th>\n",
       "      <th>start_year</th>\n",
       "      <th>runtime_minutes</th>\n",
       "      <th>genres</th>\n",
       "    </tr>\n",
       "  </thead>\n",
       "  <tbody>\n",
       "    <tr>\n",
       "      <td>60518</td>\n",
       "      <td>tt1431045</td>\n",
       "      <td>80</td>\n",
       "      <td>820847</td>\n",
       "      <td>Deadpool</td>\n",
       "      <td>2016</td>\n",
       "      <td>108.0</td>\n",
       "      <td>Action,Adventure,Comedy</td>\n",
       "    </tr>\n",
       "    <tr>\n",
       "      <td>36852</td>\n",
       "      <td>tt2488496</td>\n",
       "      <td>80</td>\n",
       "      <td>784780</td>\n",
       "      <td>Star Wars: Episode VII - The Force Awakens</td>\n",
       "      <td>2015</td>\n",
       "      <td>136.0</td>\n",
       "      <td>Action,Adventure,Fantasy</td>\n",
       "    </tr>\n",
       "    <tr>\n",
       "      <td>3195</td>\n",
       "      <td>tt1392190</td>\n",
       "      <td>81</td>\n",
       "      <td>780910</td>\n",
       "      <td>Mad Max: Fury Road</td>\n",
       "      <td>2015</td>\n",
       "      <td>120.0</td>\n",
       "      <td>Action,Adventure,Sci-Fi</td>\n",
       "    </tr>\n",
       "    <tr>\n",
       "      <td>29797</td>\n",
       "      <td>tt3659388</td>\n",
       "      <td>80</td>\n",
       "      <td>680116</td>\n",
       "      <td>The Martian</td>\n",
       "      <td>2015</td>\n",
       "      <td>144.0</td>\n",
       "      <td>Adventure,Drama,Sci-Fi</td>\n",
       "    </tr>\n",
       "    <tr>\n",
       "      <td>71879</td>\n",
       "      <td>tt4154756</td>\n",
       "      <td>85</td>\n",
       "      <td>670926</td>\n",
       "      <td>Avengers: Infinity War</td>\n",
       "      <td>2018</td>\n",
       "      <td>149.0</td>\n",
       "      <td>Action,Adventure,Sci-Fi</td>\n",
       "    </tr>\n",
       "  </tbody>\n",
       "</table>\n",
       "</div>"
      ],
      "text/plain": [
       "          tconst  averagerating  numvotes  \\\n",
       "60518  tt1431045             80    820847   \n",
       "36852  tt2488496             80    784780   \n",
       "3195   tt1392190             81    780910   \n",
       "29797  tt3659388             80    680116   \n",
       "71879  tt4154756             85    670926   \n",
       "\n",
       "                                    primary_title  start_year runtime_minutes  \\\n",
       "60518                                    Deadpool        2016           108.0   \n",
       "36852  Star Wars: Episode VII - The Force Awakens        2015           136.0   \n",
       "3195                           Mad Max: Fury Road        2015           120.0   \n",
       "29797                                 The Martian        2015           144.0   \n",
       "71879                      Avengers: Infinity War        2018           149.0   \n",
       "\n",
       "                         genres  \n",
       "60518   Action,Adventure,Comedy  \n",
       "36852  Action,Adventure,Fantasy  \n",
       "3195    Action,Adventure,Sci-Fi  \n",
       "29797    Adventure,Drama,Sci-Fi  \n",
       "71879   Action,Adventure,Sci-Fi  "
      ]
     },
     "execution_count": 22,
     "metadata": {},
     "output_type": "execute_result"
    }
   ],
   "source": [
    "df4 = df3.sort_values(by=['numvotes','averagerating'], ascending=False)\n",
    "df4.head()\n",
    "\n",
    "#re-sort the values now that only movies with a critical mass of votes are included (sorted by numvotes)"
   ]
  },
  {
   "cell_type": "code",
   "execution_count": 23,
   "metadata": {},
   "outputs": [],
   "source": [
    "df4 = df4[df4.numvotes >= 49] #removing the rows where numvotes is not equal to the average of the numvotes column"
   ]
  },
  {
   "cell_type": "code",
   "execution_count": 24,
   "metadata": {},
   "outputs": [],
   "source": [
    "df4 = df4[df4.start_year >= 2015]\n",
    "\n",
    "#our problem statement prompts us to investigate recent movies, so let's remove movies that are 5+ years old"
   ]
  },
  {
   "cell_type": "code",
   "execution_count": 27,
   "metadata": {},
   "outputs": [
    {
     "data": {
      "text/html": [
       "<div>\n",
       "<style scoped>\n",
       "    .dataframe tbody tr th:only-of-type {\n",
       "        vertical-align: middle;\n",
       "    }\n",
       "\n",
       "    .dataframe tbody tr th {\n",
       "        vertical-align: top;\n",
       "    }\n",
       "\n",
       "    .dataframe thead th {\n",
       "        text-align: right;\n",
       "    }\n",
       "</style>\n",
       "<table border=\"1\" class=\"dataframe\">\n",
       "  <thead>\n",
       "    <tr style=\"text-align: right;\">\n",
       "      <th></th>\n",
       "      <th>tconst</th>\n",
       "      <th>averagerating</th>\n",
       "      <th>numvotes</th>\n",
       "      <th>primary_title</th>\n",
       "      <th>start_year</th>\n",
       "      <th>runtime_minutes</th>\n",
       "      <th>genres</th>\n",
       "    </tr>\n",
       "  </thead>\n",
       "  <tbody>\n",
       "    <tr>\n",
       "      <td>60518</td>\n",
       "      <td>tt1431045</td>\n",
       "      <td>80</td>\n",
       "      <td>820847</td>\n",
       "      <td>Deadpool</td>\n",
       "      <td>2016</td>\n",
       "      <td>108.0</td>\n",
       "      <td>Action,Adventure,Comedy</td>\n",
       "    </tr>\n",
       "    <tr>\n",
       "      <td>36852</td>\n",
       "      <td>tt2488496</td>\n",
       "      <td>80</td>\n",
       "      <td>784780</td>\n",
       "      <td>Star Wars: Episode VII - The Force Awakens</td>\n",
       "      <td>2015</td>\n",
       "      <td>136.0</td>\n",
       "      <td>Action,Adventure,Fantasy</td>\n",
       "    </tr>\n",
       "    <tr>\n",
       "      <td>3195</td>\n",
       "      <td>tt1392190</td>\n",
       "      <td>81</td>\n",
       "      <td>780910</td>\n",
       "      <td>Mad Max: Fury Road</td>\n",
       "      <td>2015</td>\n",
       "      <td>120.0</td>\n",
       "      <td>Action,Adventure,Sci-Fi</td>\n",
       "    </tr>\n",
       "    <tr>\n",
       "      <td>29797</td>\n",
       "      <td>tt3659388</td>\n",
       "      <td>80</td>\n",
       "      <td>680116</td>\n",
       "      <td>The Martian</td>\n",
       "      <td>2015</td>\n",
       "      <td>144.0</td>\n",
       "      <td>Adventure,Drama,Sci-Fi</td>\n",
       "    </tr>\n",
       "    <tr>\n",
       "      <td>71879</td>\n",
       "      <td>tt4154756</td>\n",
       "      <td>85</td>\n",
       "      <td>670926</td>\n",
       "      <td>Avengers: Infinity War</td>\n",
       "      <td>2018</td>\n",
       "      <td>149.0</td>\n",
       "      <td>Action,Adventure,Sci-Fi</td>\n",
       "    </tr>\n",
       "  </tbody>\n",
       "</table>\n",
       "</div>"
      ],
      "text/plain": [
       "          tconst  averagerating  numvotes  \\\n",
       "60518  tt1431045             80    820847   \n",
       "36852  tt2488496             80    784780   \n",
       "3195   tt1392190             81    780910   \n",
       "29797  tt3659388             80    680116   \n",
       "71879  tt4154756             85    670926   \n",
       "\n",
       "                                    primary_title  start_year runtime_minutes  \\\n",
       "60518                                    Deadpool        2016           108.0   \n",
       "36852  Star Wars: Episode VII - The Force Awakens        2015           136.0   \n",
       "3195                           Mad Max: Fury Road        2015           120.0   \n",
       "29797                                 The Martian        2015           144.0   \n",
       "71879                      Avengers: Infinity War        2018           149.0   \n",
       "\n",
       "                         genres  \n",
       "60518   Action,Adventure,Comedy  \n",
       "36852  Action,Adventure,Fantasy  \n",
       "3195    Action,Adventure,Sci-Fi  \n",
       "29797    Adventure,Drama,Sci-Fi  \n",
       "71879   Action,Adventure,Sci-Fi  "
      ]
     },
     "execution_count": 27,
     "metadata": {},
     "output_type": "execute_result"
    }
   ],
   "source": [
    "df4.head() #taking a look at the first 5 cells in the dataset"
   ]
  },
  {
   "cell_type": "code",
   "execution_count": 30,
   "metadata": {},
   "outputs": [
    {
     "data": {
      "text/plain": [
       "Action,Adventure,Sci-Fi       8\n",
       "Action,Adventure,Fantasy      6\n",
       "Action,Adventure,Comedy       4\n",
       "Comedy,Drama,Music            1\n",
       "Action,Adventure,Biography    1\n",
       "Action,Drama,Sci-Fi           1\n",
       "Drama,Mystery,Sci-Fi          1\n",
       "Adventure,Drama,Sci-Fi        1\n",
       "Adventure,Animation,Comedy    1\n",
       "Action,Drama,History          1\n",
       "Name: genres, dtype: int64"
      ]
     },
     "execution_count": 30,
     "metadata": {},
     "output_type": "execute_result"
    }
   ],
   "source": [
    "df4['genres'][0:25].value_counts() #taking stock of any consistencies across genres"
   ]
  },
  {
   "cell_type": "code",
   "execution_count": 31,
   "metadata": {},
   "outputs": [],
   "source": [
    "df4.to_csv('imdb.popularity.csv') #saving the sorted dataset at a csv"
   ]
  }
 ],
 "metadata": {
  "kernelspec": {
   "display_name": "Python 3",
   "language": "python",
   "name": "python3"
  },
  "language_info": {
   "codemirror_mode": {
    "name": "ipython",
    "version": 3
   },
   "file_extension": ".py",
   "mimetype": "text/x-python",
   "name": "python",
   "nbconvert_exporter": "python",
   "pygments_lexer": "ipython3",
   "version": "3.6.9"
  }
 },
 "nbformat": 4,
 "nbformat_minor": 2
}
